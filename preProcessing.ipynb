{
 "cells": [
  {
   "cell_type": "code",
   "execution_count": 0,
   "metadata": {
    "colab": {},
    "colab_type": "code",
    "id": "FeutIjimvq4i"
   },
   "outputs": [],
   "source": [
    "import numpy as np\n",
    "import pandas as pd\n",
    "import sklearn\n",
    "import seaborn as sns\n",
    "import matplotlib.pyplot as plt\n",
    "import os"
   ]
  },
  {
   "cell_type": "code",
   "execution_count": 0,
   "metadata": {
    "colab": {},
    "colab_type": "code",
    "id": "XtAKfgj1vq4s"
   },
   "outputs": [],
   "source": [
    "train_path=\"/content/drive/My Drive/ML/train.csv\"\n",
    "train = pd.read_csv(train_path, nrows = 3900000)"
   ]
  },
  {
   "cell_type": "code",
   "execution_count": 6,
   "metadata": {
    "colab": {
     "base_uri": "https://localhost:8080/",
     "height": 34
    },
    "colab_type": "code",
    "id": "GoIcl6C1vq4x",
    "outputId": "dbcaa256-0be6-4d11-df59-15b26a1c00c1"
   },
   "outputs": [
    {
     "data": {
      "text/plain": [
       "(3900000, 8)"
      ]
     },
     "execution_count": 6,
     "metadata": {
      "tags": []
     },
     "output_type": "execute_result"
    }
   ],
   "source": [
    "train.shape"
   ]
  },
  {
   "cell_type": "code",
   "execution_count": 7,
   "metadata": {
    "colab": {
     "base_uri": "https://localhost:8080/",
     "height": 170
    },
    "colab_type": "code",
    "id": "DbKIdJ44vq42",
    "outputId": "9b0b62a0-5213-4ea4-97f3-9e4773a26e6c"
   },
   "outputs": [
    {
     "data": {
      "text/plain": [
       "key                   object\n",
       "fare_amount          float64\n",
       "pickup_datetime       object\n",
       "pickup_longitude     float64\n",
       "pickup_latitude      float64\n",
       "dropoff_longitude    float64\n",
       "dropoff_latitude     float64\n",
       "passenger_count        int64\n",
       "dtype: object"
      ]
     },
     "execution_count": 7,
     "metadata": {
      "tags": []
     },
     "output_type": "execute_result"
    }
   ],
   "source": [
    "train.dtypes"
   ]
  },
  {
   "cell_type": "code",
   "execution_count": 0,
   "metadata": {
    "colab": {},
    "colab_type": "code",
    "id": "X0E0PBFnvq48"
   },
   "outputs": [],
   "source": [
    "train['fare_amount']=pd.to_numeric(train['fare_amount'],errors='coerce')\n",
    "train['pickup_longitude']=pd.to_numeric(train['pickup_longitude'],errors='coerce')\n",
    "train['pickup_latitude']=pd.to_numeric(train['pickup_latitude'],errors='coerce')\n",
    "train['dropoff_longitude']=pd.to_numeric(train['dropoff_longitude'],errors='coerce')\n",
    "train['dropoff_latitude']=pd.to_numeric(train['dropoff_latitude'],errors='coerce')\n",
    "train['passenger_count']=pd.to_numeric(train['passenger_count'],errors='coerce')"
   ]
  },
  {
   "cell_type": "code",
   "execution_count": 9,
   "metadata": {
    "colab": {
     "base_uri": "https://localhost:8080/",
     "height": 170
    },
    "colab_type": "code",
    "id": "ut7PhKV3vq5C",
    "outputId": "4e386bdd-650c-4189-b87e-bfd2ef16f8b2"
   },
   "outputs": [
    {
     "data": {
      "text/plain": [
       "key                   object\n",
       "fare_amount          float64\n",
       "pickup_datetime       object\n",
       "pickup_longitude     float64\n",
       "pickup_latitude      float64\n",
       "dropoff_longitude    float64\n",
       "dropoff_latitude     float64\n",
       "passenger_count        int64\n",
       "dtype: object"
      ]
     },
     "execution_count": 9,
     "metadata": {
      "tags": []
     },
     "output_type": "execute_result"
    }
   ],
   "source": [
    "train.dtypes"
   ]
  },
  {
   "cell_type": "code",
   "execution_count": 10,
   "metadata": {
    "colab": {
     "base_uri": "https://localhost:8080/",
     "height": 170
    },
    "colab_type": "code",
    "id": "1jJqg_ppvq5J",
    "outputId": "02664009-3ded-497a-dfc9-4d43cf8d1b25"
   },
   "outputs": [
    {
     "data": {
      "text/plain": [
       "dropoff_latitude     27\n",
       "dropoff_longitude    27\n",
       "passenger_count       0\n",
       "pickup_latitude       0\n",
       "pickup_longitude      0\n",
       "pickup_datetime       0\n",
       "fare_amount           0\n",
       "key                   0\n",
       "dtype: int64"
      ]
     },
     "execution_count": 10,
     "metadata": {
      "tags": []
     },
     "output_type": "execute_result"
    }
   ],
   "source": [
    "train.isnull().sum().sort_values(ascending=False)"
   ]
  },
  {
   "cell_type": "code",
   "execution_count": 0,
   "metadata": {
    "colab": {},
    "colab_type": "code",
    "id": "YcnIRFtHvq5M"
   },
   "outputs": [],
   "source": [
    "train=train.dropna(axis=0,how='any')"
   ]
  },
  {
   "cell_type": "code",
   "execution_count": 12,
   "metadata": {
    "colab": {
     "base_uri": "https://localhost:8080/",
     "height": 34
    },
    "colab_type": "code",
    "id": "PuqFXl2Tvq5R",
    "outputId": "708e6650-b5fa-4830-aaa6-36fd7fcd0976"
   },
   "outputs": [
    {
     "data": {
      "text/plain": [
       "(3899973, 8)"
      ]
     },
     "execution_count": 12,
     "metadata": {
      "tags": []
     },
     "output_type": "execute_result"
    }
   ],
   "source": [
    "train.shape"
   ]
  },
  {
   "cell_type": "code",
   "execution_count": 13,
   "metadata": {
    "colab": {
     "base_uri": "https://localhost:8080/",
     "height": 170
    },
    "colab_type": "code",
    "id": "VsG8Pkc6vq5X",
    "outputId": "649958eb-1f5d-48b8-bf56-a491b816f352"
   },
   "outputs": [
    {
     "data": {
      "text/plain": [
       "count    3.899973e+06\n",
       "mean     1.133994e+01\n",
       "std      9.796796e+00\n",
       "min     -1.000000e+02\n",
       "25%      6.000000e+00\n",
       "50%      8.500000e+00\n",
       "75%      1.250000e+01\n",
       "max      6.981600e+02\n",
       "Name: fare_amount, dtype: float64"
      ]
     },
     "execution_count": 13,
     "metadata": {
      "tags": []
     },
     "output_type": "execute_result"
    }
   ],
   "source": [
    "train['fare_amount'].describe()"
   ]
  },
  {
   "cell_type": "code",
   "execution_count": 14,
   "metadata": {
    "colab": {
     "base_uri": "https://localhost:8080/",
     "height": 34
    },
    "colab_type": "code",
    "id": "KKrndL3Rvq5d",
    "outputId": "8b690d81-adc3-412d-a6bc-fcb61f46ce46"
   },
   "outputs": [
    {
     "data": {
      "text/plain": [
       "(3899973, 8)"
      ]
     },
     "execution_count": 14,
     "metadata": {
      "tags": []
     },
     "output_type": "execute_result"
    }
   ],
   "source": [
    "train.shape"
   ]
  },
  {
   "cell_type": "code",
   "execution_count": 15,
   "metadata": {
    "colab": {
     "base_uri": "https://localhost:8080/",
     "height": 34
    },
    "colab_type": "code",
    "id": "Rvo02WIivq5j",
    "outputId": "ac371def-399a-4f2b-a96a-db3de6ff6d12"
   },
   "outputs": [
    {
     "data": {
      "text/plain": [
       "Counter({False: 3899807, True: 166})"
      ]
     },
     "execution_count": 15,
     "metadata": {
      "tags": []
     },
     "output_type": "execute_result"
    }
   ],
   "source": [
    "from collections import Counter\n",
    "Counter(train['fare_amount']<0)"
   ]
  },
  {
   "cell_type": "code",
   "execution_count": 16,
   "metadata": {
    "colab": {
     "base_uri": "https://localhost:8080/",
     "height": 34
    },
    "colab_type": "code",
    "id": "cEMZ4UT_vq5p",
    "outputId": "5b5afb78-584c-4022-b0f3-3966e6ecfd8c"
   },
   "outputs": [
    {
     "data": {
      "text/plain": [
       "(3899807, 8)"
      ]
     },
     "execution_count": 16,
     "metadata": {
      "tags": []
     },
     "output_type": "execute_result"
    }
   ],
   "source": [
    "train = train.drop(train[train['fare_amount']<0].index, axis=0)\n",
    "train.shape"
   ]
  },
  {
   "cell_type": "code",
   "execution_count": 17,
   "metadata": {
    "colab": {
     "base_uri": "https://localhost:8080/",
     "height": 170
    },
    "colab_type": "code",
    "id": "0pIegd0_vq5t",
    "outputId": "39c71611-7293-46f2-ff3b-3c8c2005bd2f"
   },
   "outputs": [
    {
     "data": {
      "text/plain": [
       "count    3.899807e+06\n",
       "mean     1.684534e+00\n",
       "std      1.338277e+00\n",
       "min      0.000000e+00\n",
       "25%      1.000000e+00\n",
       "50%      1.000000e+00\n",
       "75%      2.000000e+00\n",
       "max      2.080000e+02\n",
       "Name: passenger_count, dtype: float64"
      ]
     },
     "execution_count": 17,
     "metadata": {
      "tags": []
     },
     "output_type": "execute_result"
    }
   ],
   "source": [
    "train['passenger_count'].describe()"
   ]
  },
  {
   "cell_type": "code",
   "execution_count": 18,
   "metadata": {
    "colab": {
     "base_uri": "https://localhost:8080/",
     "height": 34
    },
    "colab_type": "code",
    "id": "18qbmTJKvq5x",
    "outputId": "d7695415-22f8-42b8-889f-973e82458b9f"
   },
   "outputs": [
    {
     "data": {
      "text/plain": [
       "(3899795, 8)"
      ]
     },
     "execution_count": 18,
     "metadata": {
      "tags": []
     },
     "output_type": "execute_result"
    }
   ],
   "source": [
    "train = train.drop(train[train['passenger_count']>6].index, axis=0)\n",
    "train.shape"
   ]
  },
  {
   "cell_type": "code",
   "execution_count": 19,
   "metadata": {
    "colab": {
     "base_uri": "https://localhost:8080/",
     "height": 170
    },
    "colab_type": "code",
    "id": "VYnUeuMMvq51",
    "outputId": "d4b78370-8dc5-422e-81fc-2b9e98dc2fb0"
   },
   "outputs": [
    {
     "data": {
      "text/plain": [
       "count    3.899795e+06\n",
       "mean     3.991843e+01\n",
       "std      8.763044e+00\n",
       "min     -3.488080e+03\n",
       "25%      4.073490e+01\n",
       "50%      4.075262e+01\n",
       "75%      4.076710e+01\n",
       "max      3.310364e+03\n",
       "Name: pickup_latitude, dtype: float64"
      ]
     },
     "execution_count": 19,
     "metadata": {
      "tags": []
     },
     "output_type": "execute_result"
    }
   ],
   "source": [
    "train['pickup_latitude'].describe()"
   ]
  },
  {
   "cell_type": "code",
   "execution_count": 0,
   "metadata": {
    "colab": {},
    "colab_type": "code",
    "id": "_yGENDynvq54"
   },
   "outputs": [],
   "source": [
    "train = train.drop(((train[train['pickup_latitude']<40])).index, axis=0)"
   ]
  },
  {
   "cell_type": "code",
   "execution_count": 0,
   "metadata": {
    "colab": {},
    "colab_type": "code",
    "id": "skOW18NHvq58"
   },
   "outputs": [],
   "source": [
    "train = train.drop(((train[train['pickup_latitude']>42])).index, axis=0)"
   ]
  },
  {
   "cell_type": "code",
   "execution_count": 22,
   "metadata": {
    "colab": {
     "base_uri": "https://localhost:8080/",
     "height": 34
    },
    "colab_type": "code",
    "id": "WjomGIMXvq5_",
    "outputId": "3ba11dc9-a533-4e60-e437-9b5be4cac154"
   },
   "outputs": [
    {
     "data": {
      "text/plain": [
       "(3822628, 8)"
      ]
     },
     "execution_count": 22,
     "metadata": {
      "tags": []
     },
     "output_type": "execute_result"
    }
   ],
   "source": [
    "train.shape"
   ]
  },
  {
   "cell_type": "code",
   "execution_count": 23,
   "metadata": {
    "colab": {
     "base_uri": "https://localhost:8080/",
     "height": 170
    },
    "colab_type": "code",
    "id": "zqtBzDlvvq6D",
    "outputId": "0eb54131-57e0-4d64-a13f-2e86ce7e3fc5"
   },
   "outputs": [
    {
     "data": {
      "text/plain": [
       "count    3.822628e+06\n",
       "mean    -7.397005e+01\n",
       "std      2.897392e+00\n",
       "min     -1.452988e+03\n",
       "25%     -7.399228e+01\n",
       "50%     -7.398210e+01\n",
       "75%     -7.396833e+01\n",
       "max      2.228739e+03\n",
       "Name: pickup_longitude, dtype: float64"
      ]
     },
     "execution_count": 23,
     "metadata": {
      "tags": []
     },
     "output_type": "execute_result"
    }
   ],
   "source": [
    "train['pickup_longitude'].describe()"
   ]
  },
  {
   "cell_type": "code",
   "execution_count": 0,
   "metadata": {
    "colab": {},
    "colab_type": "code",
    "id": "0hGRZNsXvq6I"
   },
   "outputs": [],
   "source": [
    "train = train.drop(((train[train['pickup_longitude']<-75])).index, axis=0)"
   ]
  },
  {
   "cell_type": "code",
   "execution_count": 0,
   "metadata": {
    "colab": {},
    "colab_type": "code",
    "id": "J7q2Y0Dzvq6M"
   },
   "outputs": [],
   "source": [
    "train = train.drop(((train[train['pickup_longitude']>-72])).index, axis=0)"
   ]
  },
  {
   "cell_type": "code",
   "execution_count": 26,
   "metadata": {
    "colab": {
     "base_uri": "https://localhost:8080/",
     "height": 34
    },
    "colab_type": "code",
    "id": "aqNfd7qhvq6R",
    "outputId": "a9219845-d5af-4c49-e498-224e7659a50e"
   },
   "outputs": [
    {
     "data": {
      "text/plain": [
       "(3821710, 8)"
      ]
     },
     "execution_count": 26,
     "metadata": {
      "tags": []
     },
     "output_type": "execute_result"
    }
   ],
   "source": [
    "train.shape"
   ]
  },
  {
   "cell_type": "code",
   "execution_count": 27,
   "metadata": {
    "colab": {
     "base_uri": "https://localhost:8080/",
     "height": 170
    },
    "colab_type": "code",
    "id": "uu1xjRlnvq6X",
    "outputId": "0fad5d14-85eb-4bae-a512-937e56ac34a6"
   },
   "outputs": [
    {
     "data": {
      "text/plain": [
       "key                   object\n",
       "fare_amount          float64\n",
       "pickup_datetime       object\n",
       "pickup_longitude     float64\n",
       "pickup_latitude      float64\n",
       "dropoff_longitude    float64\n",
       "dropoff_latitude     float64\n",
       "passenger_count        int64\n",
       "dtype: object"
      ]
     },
     "execution_count": 27,
     "metadata": {
      "tags": []
     },
     "output_type": "execute_result"
    }
   ],
   "source": [
    "train.dtypes"
   ]
  },
  {
   "cell_type": "code",
   "execution_count": 0,
   "metadata": {
    "colab": {},
    "colab_type": "code",
    "id": "eNeS4Zvvvq6a"
   },
   "outputs": [],
   "source": [
    "train['key'] = pd.to_datetime(train['key'])\n",
    "train['pickup_datetime']  = pd.to_datetime(train['pickup_datetime'])"
   ]
  },
  {
   "cell_type": "code",
   "execution_count": 29,
   "metadata": {
    "colab": {
     "base_uri": "https://localhost:8080/",
     "height": 170
    },
    "colab_type": "code",
    "id": "sKcxCu7Qvq6e",
    "outputId": "905a22bf-f997-4a64-aa48-3066a835e5af"
   },
   "outputs": [
    {
     "data": {
      "text/plain": [
       "key                       datetime64[ns]\n",
       "fare_amount                      float64\n",
       "pickup_datetime      datetime64[ns, UTC]\n",
       "pickup_longitude                 float64\n",
       "pickup_latitude                  float64\n",
       "dropoff_longitude                float64\n",
       "dropoff_latitude                 float64\n",
       "passenger_count                    int64\n",
       "dtype: object"
      ]
     },
     "execution_count": 29,
     "metadata": {
      "tags": []
     },
     "output_type": "execute_result"
    }
   ],
   "source": [
    "train.dtypes"
   ]
  },
  {
   "cell_type": "code",
   "execution_count": 0,
   "metadata": {
    "colab": {},
    "colab_type": "code",
    "id": "jPu0aaVEvq6h"
   },
   "outputs": [],
   "source": []
  },
  {
   "cell_type": "code",
   "execution_count": 0,
   "metadata": {
    "colab": {},
    "colab_type": "code",
    "id": "w0uXLnoMvq6k"
   },
   "outputs": [],
   "source": [
    "test_path=\"/content/drive/My Drive/ML/test.csv\"\n",
    "test = pd.read_csv(test_path)"
   ]
  },
  {
   "cell_type": "code",
   "execution_count": 31,
   "metadata": {
    "colab": {
     "base_uri": "https://localhost:8080/",
     "height": 34
    },
    "colab_type": "code",
    "id": "3AoUH3fQvq6n",
    "outputId": "268e6608-2a7c-4517-be48-040f065a26ce"
   },
   "outputs": [
    {
     "data": {
      "text/plain": [
       "(11084772, 7)"
      ]
     },
     "execution_count": 31,
     "metadata": {
      "tags": []
     },
     "output_type": "execute_result"
    }
   ],
   "source": [
    "test.shape"
   ]
  },
  {
   "cell_type": "code",
   "execution_count": 32,
   "metadata": {
    "colab": {
     "base_uri": "https://localhost:8080/",
     "height": 153
    },
    "colab_type": "code",
    "id": "lAfJIaCbvq6p",
    "outputId": "eee4859e-371b-4e9c-d428-62cf5931a8d4"
   },
   "outputs": [
    {
     "data": {
      "text/plain": [
       "key                   object\n",
       "pickup_datetime       object\n",
       "pickup_longitude     float64\n",
       "pickup_latitude      float64\n",
       "dropoff_longitude    float64\n",
       "dropoff_latitude     float64\n",
       "passenger_count        int64\n",
       "dtype: object"
      ]
     },
     "execution_count": 32,
     "metadata": {
      "tags": []
     },
     "output_type": "execute_result"
    }
   ],
   "source": [
    "test.dtypes"
   ]
  },
  {
   "cell_type": "code",
   "execution_count": 0,
   "metadata": {
    "colab": {},
    "colab_type": "code",
    "id": "7M8ffoFivq6t"
   },
   "outputs": [],
   "source": [
    "test['key'] = pd.to_datetime(test['key'])"
   ]
  },
  {
   "cell_type": "code",
   "execution_count": 0,
   "metadata": {
    "colab": {},
    "colab_type": "code",
    "id": "aGGr60UKvq6w"
   },
   "outputs": [],
   "source": [
    "test['pickup_datetime']  = pd.to_datetime(test['pickup_datetime'])"
   ]
  },
  {
   "cell_type": "code",
   "execution_count": 0,
   "metadata": {
    "colab": {},
    "colab_type": "code",
    "id": "lAXy9oVLvq62"
   },
   "outputs": [],
   "source": [
    "test['passenger_count']=pd.to_numeric(test['passenger_count'],errors='coerce')"
   ]
  },
  {
   "cell_type": "code",
   "execution_count": 36,
   "metadata": {
    "colab": {
     "base_uri": "https://localhost:8080/",
     "height": 153
    },
    "colab_type": "code",
    "id": "o_3TCwlFvq66",
    "outputId": "3e6bdc51-4c1c-4cb7-9e45-f73e07c4323e"
   },
   "outputs": [
    {
     "data": {
      "text/plain": [
       "key                       datetime64[ns]\n",
       "pickup_datetime      datetime64[ns, UTC]\n",
       "pickup_longitude                 float64\n",
       "pickup_latitude                  float64\n",
       "dropoff_longitude                float64\n",
       "dropoff_latitude                 float64\n",
       "passenger_count                    int64\n",
       "dtype: object"
      ]
     },
     "execution_count": 36,
     "metadata": {
      "tags": []
     },
     "output_type": "execute_result"
    }
   ],
   "source": [
    "test.dtypes"
   ]
  },
  {
   "cell_type": "code",
   "execution_count": 0,
   "metadata": {
    "colab": {},
    "colab_type": "code",
    "id": "_mRWQNT9vq68"
   },
   "outputs": [],
   "source": [
    "def calc_distance(lat1, long1, lat2, long2):\n",
    "    data = [train, test]\n",
    "    for i in data:\n",
    "        R = 6371  #radius of earth in kilometers\n",
    "        #R = 3959 #radius of earth in miles\n",
    "        phi1 = np.radians(i[lat1])\n",
    "        phi2 = np.radians(i[lat2])\n",
    "    \n",
    "        delta_phi = np.radians(i[lat2]-i[lat1])\n",
    "        delta_lambda = np.radians(i[long2]-i[long1])\n",
    "    \n",
    "        #a = sin²((φB - φA)/2) + cos φA . cos φB . sin²((λB - λA)/2)\n",
    "        a = np.sin(delta_phi / 2.0) ** 2 + np.cos(phi1) * np.cos(phi2) * np.sin(delta_lambda / 2.0) ** 2\n",
    "    \n",
    "        #c = 2 * atan2( √a, √(1−a) )\n",
    "        c = 2 * np.arctan2(np.sqrt(a), np.sqrt(1-a))\n",
    "    \n",
    "        #d = R*c\n",
    "        d = (R * c) #in kilometers\n",
    "        i['Distance'] = d\n",
    "    #return d"
   ]
  },
  {
   "cell_type": "code",
   "execution_count": 0,
   "metadata": {
    "colab": {},
    "colab_type": "code",
    "id": "UNKvHUkdvq6_"
   },
   "outputs": [],
   "source": [
    "calc_distance('pickup_latitude', 'pickup_longitude', 'dropoff_latitude', 'dropoff_longitude')"
   ]
  },
  {
   "cell_type": "code",
   "execution_count": 39,
   "metadata": {
    "colab": {
     "base_uri": "https://localhost:8080/",
     "height": 204
    },
    "colab_type": "code",
    "id": "nI0Q_tYGvq7B",
    "outputId": "a5f84cde-0d57-42ff-f1d0-4177c456abd6"
   },
   "outputs": [
    {
     "data": {
      "text/plain": [
       "0    2.102828\n",
       "1    1.083702\n",
       "2    6.028886\n",
       "3    2.939171\n",
       "4    1.136290\n",
       "5    1.255119\n",
       "6    3.562117\n",
       "7    0.185836\n",
       "8    8.197193\n",
       "9    3.476334\n",
       "Name: Distance, dtype: float64"
      ]
     },
     "execution_count": 39,
     "metadata": {
      "tags": []
     },
     "output_type": "execute_result"
    }
   ],
   "source": [
    "train['Distance'].head(10)"
   ]
  },
  {
   "cell_type": "code",
   "execution_count": 40,
   "metadata": {
    "colab": {
     "base_uri": "https://localhost:8080/",
     "height": 204
    },
    "colab_type": "code",
    "id": "5GDZapRcvq7G",
    "outputId": "9d475612-eac0-4177-e163-f5f805ca32b6"
   },
   "outputs": [
    {
     "data": {
      "text/plain": [
       "0    2.102828\n",
       "1    1.083702\n",
       "2    6.028886\n",
       "3    2.939171\n",
       "4    1.136290\n",
       "5    1.255119\n",
       "6    3.562117\n",
       "7    0.185836\n",
       "8    8.197193\n",
       "9    3.476334\n",
       "Name: Distance, dtype: float64"
      ]
     },
     "execution_count": 40,
     "metadata": {
      "tags": []
     },
     "output_type": "execute_result"
    }
   ],
   "source": [
    "train['Distance'].head(10)"
   ]
  },
  {
   "cell_type": "code",
   "execution_count": 41,
   "metadata": {
    "colab": {
     "base_uri": "https://localhost:8080/",
     "height": 170
    },
    "colab_type": "code",
    "id": "-P5rVvpdvq7K",
    "outputId": "83d2a0e5-bcf0-4284-ee9f-71f0f1b10b6b"
   },
   "outputs": [
    {
     "data": {
      "text/plain": [
       "count    3.821710e+06\n",
       "mean     1.140384e+01\n",
       "std      2.590931e+02\n",
       "min      0.000000e+00\n",
       "25%      1.253526e+00\n",
       "50%      2.154124e+00\n",
       "75%      3.918284e+00\n",
       "max      1.687830e+04\n",
       "Name: Distance, dtype: float64"
      ]
     },
     "execution_count": 41,
     "metadata": {
      "tags": []
     },
     "output_type": "execute_result"
    }
   ],
   "source": [
    "train['Distance'].describe()"
   ]
  },
  {
   "cell_type": "code",
   "execution_count": 0,
   "metadata": {
    "colab": {},
    "colab_type": "code",
    "id": "tu_mvNhVvq7N"
   },
   "outputs": [],
   "source": [
    "data = [train,test]\n",
    "for i in data:\n",
    "    i['Year'] = i['pickup_datetime'].dt.year\n",
    "    i['Month'] = i['pickup_datetime'].dt.month\n",
    "    i['Date'] = i['pickup_datetime'].dt.day\n",
    "    i['Day of Week'] = i['pickup_datetime'].dt.dayofweek\n",
    "    i['Hour'] = i['pickup_datetime'].dt.hour"
   ]
  },
  {
   "cell_type": "code",
   "execution_count": 43,
   "metadata": {
    "colab": {
     "base_uri": "https://localhost:8080/",
     "height": 343
    },
    "colab_type": "code",
    "id": "11425FQ-vq7U",
    "outputId": "438b9367-853a-4c36-e140-1142bb81ec92"
   },
   "outputs": [
    {
     "data": {
      "text/html": [
       "<div>\n",
       "<style scoped>\n",
       "    .dataframe tbody tr th:only-of-type {\n",
       "        vertical-align: middle;\n",
       "    }\n",
       "\n",
       "    .dataframe tbody tr th {\n",
       "        vertical-align: top;\n",
       "    }\n",
       "\n",
       "    .dataframe thead th {\n",
       "        text-align: right;\n",
       "    }\n",
       "</style>\n",
       "<table border=\"1\" class=\"dataframe\">\n",
       "  <thead>\n",
       "    <tr style=\"text-align: right;\">\n",
       "      <th></th>\n",
       "      <th>key</th>\n",
       "      <th>fare_amount</th>\n",
       "      <th>pickup_datetime</th>\n",
       "      <th>pickup_longitude</th>\n",
       "      <th>pickup_latitude</th>\n",
       "      <th>dropoff_longitude</th>\n",
       "      <th>dropoff_latitude</th>\n",
       "      <th>passenger_count</th>\n",
       "      <th>Distance</th>\n",
       "      <th>Year</th>\n",
       "      <th>Month</th>\n",
       "      <th>Date</th>\n",
       "      <th>Day of Week</th>\n",
       "      <th>Hour</th>\n",
       "    </tr>\n",
       "  </thead>\n",
       "  <tbody>\n",
       "    <tr>\n",
       "      <th>0</th>\n",
       "      <td>2014-09-27 15:26:00.000000430</td>\n",
       "      <td>7.5</td>\n",
       "      <td>2014-09-27 15:26:00+00:00</td>\n",
       "      <td>-73.978463</td>\n",
       "      <td>40.759072</td>\n",
       "      <td>-73.963577</td>\n",
       "      <td>40.774255</td>\n",
       "      <td>1</td>\n",
       "      <td>2.102828</td>\n",
       "      <td>2014</td>\n",
       "      <td>9</td>\n",
       "      <td>27</td>\n",
       "      <td>5</td>\n",
       "      <td>15</td>\n",
       "    </tr>\n",
       "    <tr>\n",
       "      <th>1</th>\n",
       "      <td>2012-05-07 07:57:00.000000142</td>\n",
       "      <td>6.5</td>\n",
       "      <td>2012-05-07 07:57:00+00:00</td>\n",
       "      <td>-73.982397</td>\n",
       "      <td>40.770245</td>\n",
       "      <td>-73.972450</td>\n",
       "      <td>40.764062</td>\n",
       "      <td>1</td>\n",
       "      <td>1.083702</td>\n",
       "      <td>2012</td>\n",
       "      <td>5</td>\n",
       "      <td>7</td>\n",
       "      <td>0</td>\n",
       "      <td>7</td>\n",
       "    </tr>\n",
       "    <tr>\n",
       "      <th>2</th>\n",
       "      <td>2009-05-05 20:02:36.000000500</td>\n",
       "      <td>12.9</td>\n",
       "      <td>2009-05-05 20:02:36+00:00</td>\n",
       "      <td>-74.006507</td>\n",
       "      <td>40.718808</td>\n",
       "      <td>-73.961096</td>\n",
       "      <td>40.760711</td>\n",
       "      <td>1</td>\n",
       "      <td>6.028886</td>\n",
       "      <td>2009</td>\n",
       "      <td>5</td>\n",
       "      <td>5</td>\n",
       "      <td>1</td>\n",
       "      <td>20</td>\n",
       "    </tr>\n",
       "    <tr>\n",
       "      <th>3</th>\n",
       "      <td>2010-07-15 22:57:00.000000420</td>\n",
       "      <td>20.1</td>\n",
       "      <td>2010-07-15 22:57:00+00:00</td>\n",
       "      <td>-73.999242</td>\n",
       "      <td>40.734165</td>\n",
       "      <td>-73.972597</td>\n",
       "      <td>40.751228</td>\n",
       "      <td>2</td>\n",
       "      <td>2.939171</td>\n",
       "      <td>2010</td>\n",
       "      <td>7</td>\n",
       "      <td>15</td>\n",
       "      <td>3</td>\n",
       "      <td>22</td>\n",
       "    </tr>\n",
       "    <tr>\n",
       "      <th>4</th>\n",
       "      <td>2010-08-31 13:15:00.000000280</td>\n",
       "      <td>4.1</td>\n",
       "      <td>2010-08-31 13:15:00+00:00</td>\n",
       "      <td>-73.977750</td>\n",
       "      <td>40.746274</td>\n",
       "      <td>-73.972760</td>\n",
       "      <td>40.755768</td>\n",
       "      <td>1</td>\n",
       "      <td>1.136290</td>\n",
       "      <td>2010</td>\n",
       "      <td>8</td>\n",
       "      <td>31</td>\n",
       "      <td>1</td>\n",
       "      <td>13</td>\n",
       "    </tr>\n",
       "  </tbody>\n",
       "</table>\n",
       "</div>"
      ],
      "text/plain": [
       "                            key  fare_amount  ... Day of Week  Hour\n",
       "0 2014-09-27 15:26:00.000000430          7.5  ...           5    15\n",
       "1 2012-05-07 07:57:00.000000142          6.5  ...           0     7\n",
       "2 2009-05-05 20:02:36.000000500         12.9  ...           1    20\n",
       "3 2010-07-15 22:57:00.000000420         20.1  ...           3    22\n",
       "4 2010-08-31 13:15:00.000000280          4.1  ...           1    13\n",
       "\n",
       "[5 rows x 14 columns]"
      ]
     },
     "execution_count": 43,
     "metadata": {
      "tags": []
     },
     "output_type": "execute_result"
    }
   ],
   "source": [
    "train.head()"
   ]
  },
  {
   "cell_type": "code",
   "execution_count": 44,
   "metadata": {
    "colab": {
     "base_uri": "https://localhost:8080/",
     "height": 343
    },
    "colab_type": "code",
    "id": "uqt5FPwnvq7X",
    "outputId": "a331d4ab-7ebd-4cd9-f91e-e818430688dd"
   },
   "outputs": [
    {
     "data": {
      "text/html": [
       "<div>\n",
       "<style scoped>\n",
       "    .dataframe tbody tr th:only-of-type {\n",
       "        vertical-align: middle;\n",
       "    }\n",
       "\n",
       "    .dataframe tbody tr th {\n",
       "        vertical-align: top;\n",
       "    }\n",
       "\n",
       "    .dataframe thead th {\n",
       "        text-align: right;\n",
       "    }\n",
       "</style>\n",
       "<table border=\"1\" class=\"dataframe\">\n",
       "  <thead>\n",
       "    <tr style=\"text-align: right;\">\n",
       "      <th></th>\n",
       "      <th>key</th>\n",
       "      <th>pickup_datetime</th>\n",
       "      <th>pickup_longitude</th>\n",
       "      <th>pickup_latitude</th>\n",
       "      <th>dropoff_longitude</th>\n",
       "      <th>dropoff_latitude</th>\n",
       "      <th>passenger_count</th>\n",
       "      <th>Distance</th>\n",
       "      <th>Year</th>\n",
       "      <th>Month</th>\n",
       "      <th>Date</th>\n",
       "      <th>Day of Week</th>\n",
       "      <th>Hour</th>\n",
       "    </tr>\n",
       "  </thead>\n",
       "  <tbody>\n",
       "    <tr>\n",
       "      <th>0</th>\n",
       "      <td>2009-01-01 00:01:04.000000300</td>\n",
       "      <td>2009-01-01 00:01:04+00:00</td>\n",
       "      <td>-73.972484</td>\n",
       "      <td>40.742743</td>\n",
       "      <td>-73.918937</td>\n",
       "      <td>40.764496</td>\n",
       "      <td>1</td>\n",
       "      <td>5.118060</td>\n",
       "      <td>2009</td>\n",
       "      <td>1</td>\n",
       "      <td>1</td>\n",
       "      <td>3</td>\n",
       "      <td>0</td>\n",
       "    </tr>\n",
       "    <tr>\n",
       "      <th>1</th>\n",
       "      <td>2009-01-01 00:01:26.000000100</td>\n",
       "      <td>2009-01-01 00:01:26+00:00</td>\n",
       "      <td>-73.985850</td>\n",
       "      <td>40.722826</td>\n",
       "      <td>-73.986301</td>\n",
       "      <td>40.739347</td>\n",
       "      <td>1</td>\n",
       "      <td>1.837444</td>\n",
       "      <td>2009</td>\n",
       "      <td>1</td>\n",
       "      <td>1</td>\n",
       "      <td>3</td>\n",
       "      <td>0</td>\n",
       "    </tr>\n",
       "    <tr>\n",
       "      <th>2</th>\n",
       "      <td>2009-01-01 00:04:42.000000100</td>\n",
       "      <td>2009-01-01 00:04:42+00:00</td>\n",
       "      <td>-73.988917</td>\n",
       "      <td>40.740142</td>\n",
       "      <td>-73.982769</td>\n",
       "      <td>40.777291</td>\n",
       "      <td>1</td>\n",
       "      <td>4.163110</td>\n",
       "      <td>2009</td>\n",
       "      <td>1</td>\n",
       "      <td>1</td>\n",
       "      <td>3</td>\n",
       "      <td>0</td>\n",
       "    </tr>\n",
       "    <tr>\n",
       "      <th>3</th>\n",
       "      <td>2009-01-01 00:04:54.000000100</td>\n",
       "      <td>2009-01-01 00:04:54+00:00</td>\n",
       "      <td>-73.977163</td>\n",
       "      <td>40.764490</td>\n",
       "      <td>-73.914474</td>\n",
       "      <td>40.771575</td>\n",
       "      <td>1</td>\n",
       "      <td>5.337783</td>\n",
       "      <td>2009</td>\n",
       "      <td>1</td>\n",
       "      <td>1</td>\n",
       "      <td>3</td>\n",
       "      <td>0</td>\n",
       "    </tr>\n",
       "    <tr>\n",
       "      <th>4</th>\n",
       "      <td>2009-01-01 00:04:59.000000400</td>\n",
       "      <td>2009-01-01 00:04:59+00:00</td>\n",
       "      <td>-73.948849</td>\n",
       "      <td>40.778003</td>\n",
       "      <td>-73.977678</td>\n",
       "      <td>40.748692</td>\n",
       "      <td>2</td>\n",
       "      <td>4.064204</td>\n",
       "      <td>2009</td>\n",
       "      <td>1</td>\n",
       "      <td>1</td>\n",
       "      <td>3</td>\n",
       "      <td>0</td>\n",
       "    </tr>\n",
       "  </tbody>\n",
       "</table>\n",
       "</div>"
      ],
      "text/plain": [
       "                            key           pickup_datetime  ...  Day of Week  Hour\n",
       "0 2009-01-01 00:01:04.000000300 2009-01-01 00:01:04+00:00  ...            3     0\n",
       "1 2009-01-01 00:01:26.000000100 2009-01-01 00:01:26+00:00  ...            3     0\n",
       "2 2009-01-01 00:04:42.000000100 2009-01-01 00:04:42+00:00  ...            3     0\n",
       "3 2009-01-01 00:04:54.000000100 2009-01-01 00:04:54+00:00  ...            3     0\n",
       "4 2009-01-01 00:04:59.000000400 2009-01-01 00:04:59+00:00  ...            3     0\n",
       "\n",
       "[5 rows x 13 columns]"
      ]
     },
     "execution_count": 44,
     "metadata": {
      "tags": []
     },
     "output_type": "execute_result"
    }
   ],
   "source": [
    "test.head()"
   ]
  },
  {
   "cell_type": "code",
   "execution_count": 45,
   "metadata": {
    "colab": {
     "base_uri": "https://localhost:8080/",
     "height": 479
    },
    "colab_type": "code",
    "id": "q2Rqnrq6vq7Z",
    "outputId": "5d494626-2b2c-4c33-d499-5210ec45505d"
   },
   "outputs": [
    {
     "data": {
      "text/plain": [
       "Text(0, 0.5, 'Frequency')"
      ]
     },
     "execution_count": 45,
     "metadata": {
      "tags": []
     },
     "output_type": "execute_result"
    },
    {
     "data": {
      "image/png": "[encoded data removed]",
      "text/plain": [
       "<Figure size 1080x504 with 1 Axes>"
      ]
     },
     "metadata": {
      "tags": []
     },
     "output_type": "display_data"
    }
   ],
   "source": [
    "plt.figure(figsize=(15,7))\n",
    "plt.hist(train['Month'], bins=100)\n",
    "plt.xlabel('Month')\n",
    "plt.ylabel('Frequency')"
   ]
  },
  {
   "cell_type": "code",
   "execution_count": 46,
   "metadata": {
    "colab": {
     "base_uri": "https://localhost:8080/",
     "height": 479
    },
    "colab_type": "code",
    "id": "QjX_a4o_vq7b",
    "outputId": "612e7480-c0d1-4bc8-f421-78f6822c604c"
   },
   "outputs": [
    {
     "data": {
      "text/plain": [
       "Text(0, 0.5, 'Frequency')"
      ]
     },
     "execution_count": 46,
     "metadata": {
      "tags": []
     },
     "output_type": "execute_result"
    },
    {
     "data": {
      "image/png": "[encoded data removed]",
      "text/plain": [
       "<Figure size 1080x504 with 1 Axes>"
      ]
     },
     "metadata": {
      "tags": []
     },
     "output_type": "display_data"
    }
   ],
   "source": [
    "plt.figure(figsize=(15,7))\n",
    "plt.hist(train['passenger_count'], bins=15)\n",
    "plt.xlabel('No. of Passengers')\n",
    "plt.ylabel('Frequency')"
   ]
  },
  {
   "cell_type": "code",
   "execution_count": 47,
   "metadata": {
    "colab": {
     "base_uri": "https://localhost:8080/",
     "height": 459
    },
    "colab_type": "code",
    "id": "T2cxJEmvvq7d",
    "outputId": "3441bded-688c-470a-9291-8f3a69cd2da8"
   },
   "outputs": [
    {
     "data": {
      "text/plain": [
       "Text(0, 0.5, 'Fare')"
      ]
     },
     "execution_count": 47,
     "metadata": {
      "tags": []
     },
     "output_type": "execute_result"
    },
    {
     "data": {
      "image/png": "[encoded data removed]",
      "text/plain": [
       "<Figure size 1080x504 with 1 Axes>"
      ]
     },
     "metadata": {
      "tags": []
     },
     "output_type": "display_data"
    }
   ],
   "source": [
    "plt.figure(figsize=(15,7))\n",
    "plt.scatter(x=train['passenger_count'], y=train['fare_amount'], s=1.5)\n",
    "plt.xlabel('No. of Passengers')\n",
    "plt.ylabel('Fare')"
   ]
  },
  {
   "cell_type": "code",
   "execution_count": 95,
   "metadata": {
    "colab": {
     "base_uri": "https://localhost:8080/",
     "height": 479
    },
    "colab_type": "code",
    "id": "U3khLaKUF1Lf",
    "outputId": "440bb634-a24d-4958-987c-60a97e06b7ac"
   },
   "outputs": [
    {
     "data": {
      "text/plain": [
       "Text(0, 0.5, 'Fare')"
      ]
     },
     "execution_count": 95,
     "metadata": {
      "tags": []
     },
     "output_type": "execute_result"
    },
    {
     "data": {
      "image/png": "[encoded data removed]",
      "text/plain": [
       "<Figure size 1080x504 with 1 Axes>"
      ]
     },
     "metadata": {
      "tags": []
     },
     "output_type": "display_data"
    }
   ],
   "source": [
    "plt.figure(figsize=(15,7))\n",
    "plt.scatter(x=train['Distance'], y=train['fare_amount'])\n",
    "plt.xlabel('Distance')\n",
    "plt.ylabel('Fare')"
   ]
  },
  {
   "cell_type": "code",
   "execution_count": 48,
   "metadata": {
    "colab": {
     "base_uri": "https://localhost:8080/",
     "height": 459
    },
    "colab_type": "code",
    "id": "jbOjCoJovq7h",
    "outputId": "9cb2a8a1-e10d-47ad-9645-309d5677b12b"
   },
   "outputs": [
    {
     "data": {
      "text/plain": [
       "Text(0, 0.5, 'Fare')"
      ]
     },
     "execution_count": 48,
     "metadata": {
      "tags": []
     },
     "output_type": "execute_result"
    },
    {
     "data": {
      "image/png": "[encoded data removed]",
      "text/plain": [
       "<Figure size 1080x504 with 1 Axes>"
      ]
     },
     "metadata": {
      "tags": []
     },
     "output_type": "display_data"
    }
   ],
   "source": [
    "plt.figure(figsize=(15,7))\n",
    "plt.scatter(x=train['Date'], y=train['fare_amount'], s=1.5)\n",
    "plt.xlabel('Date')\n",
    "plt.ylabel('Fare')"
   ]
  },
  {
   "cell_type": "code",
   "execution_count": 49,
   "metadata": {
    "colab": {
     "base_uri": "https://localhost:8080/",
     "height": 481
    },
    "colab_type": "code",
    "id": "gv3zTG2zvq7n",
    "outputId": "9e990035-fbed-46bf-d43e-578bb859b689"
   },
   "outputs": [
    {
     "data": {
      "text/plain": [
       "Text(0, 0.5, 'Frequency')"
      ]
     },
     "execution_count": 49,
     "metadata": {
      "tags": []
     },
     "output_type": "execute_result"
    },
    {
     "data": {
      "image/png": "[encoded data removed]",
      "text/plain": [
       "<Figure size 1080x504 with 1 Axes>"
      ]
     },
     "metadata": {
      "tags": []
     },
     "output_type": "display_data"
    }
   ],
   "source": [
    "plt.figure(figsize=(15,7))\n",
    "plt.hist(train['Hour'], bins=100)\n",
    "plt.xlabel('Hour')\n",
    "plt.ylabel('Frequency')"
   ]
  },
  {
   "cell_type": "code",
   "execution_count": 50,
   "metadata": {
    "colab": {
     "base_uri": "https://localhost:8080/",
     "height": 459
    },
    "colab_type": "code",
    "id": "uT8v4mCivq7v",
    "outputId": "261acc7d-79cd-4b1f-d00d-7a08d9d41999"
   },
   "outputs": [
    {
     "data": {
      "text/plain": [
       "Text(0, 0.5, 'Fare')"
      ]
     },
     "execution_count": 50,
     "metadata": {
      "tags": []
     },
     "output_type": "execute_result"
    },
    {
     "data": {
      "image/png": "[encoded data removed]",
      "text/plain": [
       "<Figure size 1080x504 with 1 Axes>"
      ]
     },
     "metadata": {
      "tags": []
     },
     "output_type": "display_data"
    }
   ],
   "source": [
    "plt.figure(figsize=(15,7))\n",
    "plt.scatter(x=train['Hour'], y=train['fare_amount'], s=1.5)\n",
    "plt.xlabel('Hour')\n",
    "plt.ylabel('Fare')"
   ]
  },
  {
   "cell_type": "code",
   "execution_count": 51,
   "metadata": {
    "colab": {
     "base_uri": "https://localhost:8080/",
     "height": 479
    },
    "colab_type": "code",
    "id": "dPgwtrKzvq7y",
    "outputId": "c26fd9d5-88ee-4594-c3fc-b2abeff63304"
   },
   "outputs": [
    {
     "data": {
      "text/plain": [
       "Text(0, 0.5, 'Frequency')"
      ]
     },
     "execution_count": 51,
     "metadata": {
      "tags": []
     },
     "output_type": "execute_result"
    },
    {
     "data": {
      "image/png": "[encoded data removed]",
      "text/plain": [
       "<Figure size 1080x504 with 1 Axes>"
      ]
     },
     "metadata": {
      "tags": []
     },
     "output_type": "display_data"
    }
   ],
   "source": [
    "plt.figure(figsize=(15,7))\n",
    "plt.hist(train['Day of Week'], bins=100)\n",
    "plt.xlabel('Day of Week')\n",
    "plt.ylabel('Frequency')"
   ]
  },
  {
   "cell_type": "code",
   "execution_count": 52,
   "metadata": {
    "colab": {
     "base_uri": "https://localhost:8080/",
     "height": 459
    },
    "colab_type": "code",
    "id": "9PUOBKsTvq75",
    "outputId": "91357245-f0ff-4db3-d7f2-933d07d29b87"
   },
   "outputs": [
    {
     "data": {
      "text/plain": [
       "Text(0, 0.5, 'Fare')"
      ]
     },
     "execution_count": 52,
     "metadata": {
      "tags": []
     },
     "output_type": "execute_result"
    },
    {
     "data": {
      "image/png": "[encoded data removed]",
      "text/plain": [
       "<Figure size 1080x504 with 1 Axes>"
      ]
     },
     "metadata": {
      "tags": []
     },
     "output_type": "display_data"
    }
   ],
   "source": [
    "plt.figure(figsize=(15,7))\n",
    "plt.scatter(x=train['Day of Week'], y=train['fare_amount'], s=1.5)\n",
    "plt.xlabel('Day of Week')\n",
    "plt.ylabel('Fare')"
   ]
  },
  {
   "cell_type": "code",
   "execution_count": 53,
   "metadata": {
    "colab": {
     "base_uri": "https://localhost:8080/",
     "height": 643
    },
    "colab_type": "code",
    "id": "9AQAYVWcvq79",
    "outputId": "fc76e182-9d31-4a0d-f6d7-e518dd538606"
   },
   "outputs": [
    {
     "data": {
      "text/html": [
       "<div>\n",
       "<style scoped>\n",
       "    .dataframe tbody tr th:only-of-type {\n",
       "        vertical-align: middle;\n",
       "    }\n",
       "\n",
       "    .dataframe tbody tr th {\n",
       "        vertical-align: top;\n",
       "    }\n",
       "\n",
       "    .dataframe thead th {\n",
       "        text-align: right;\n",
       "    }\n",
       "</style>\n",
       "<table border=\"1\" class=\"dataframe\">\n",
       "  <thead>\n",
       "    <tr style=\"text-align: right;\">\n",
       "      <th></th>\n",
       "      <th>key</th>\n",
       "      <th>fare_amount</th>\n",
       "      <th>pickup_datetime</th>\n",
       "      <th>pickup_longitude</th>\n",
       "      <th>pickup_latitude</th>\n",
       "      <th>dropoff_longitude</th>\n",
       "      <th>dropoff_latitude</th>\n",
       "      <th>passenger_count</th>\n",
       "      <th>Distance</th>\n",
       "      <th>Year</th>\n",
       "      <th>Month</th>\n",
       "      <th>Date</th>\n",
       "      <th>Day of Week</th>\n",
       "      <th>Hour</th>\n",
       "    </tr>\n",
       "  </thead>\n",
       "  <tbody>\n",
       "    <tr>\n",
       "      <th>2787565</th>\n",
       "      <td>2013-01-02 11:33:00.000000200</td>\n",
       "      <td>15.0</td>\n",
       "      <td>2013-01-02 11:33:00+00:00</td>\n",
       "      <td>-74.015200</td>\n",
       "      <td>40.709665</td>\n",
       "      <td>-40.719295</td>\n",
       "      <td>1651.553433</td>\n",
       "      <td>5</td>\n",
       "      <td>16878.303157</td>\n",
       "      <td>2013</td>\n",
       "      <td>1</td>\n",
       "      <td>2</td>\n",
       "      <td>2</td>\n",
       "      <td>11</td>\n",
       "    </tr>\n",
       "    <tr>\n",
       "      <th>2259897</th>\n",
       "      <td>2012-06-03 11:19:37.000000200</td>\n",
       "      <td>32.1</td>\n",
       "      <td>2012-06-03 11:19:37+00:00</td>\n",
       "      <td>-73.863359</td>\n",
       "      <td>40.769278</td>\n",
       "      <td>45.581619</td>\n",
       "      <td>-2.013462</td>\n",
       "      <td>2</td>\n",
       "      <td>12594.704725</td>\n",
       "      <td>2012</td>\n",
       "      <td>6</td>\n",
       "      <td>3</td>\n",
       "      <td>6</td>\n",
       "      <td>11</td>\n",
       "    </tr>\n",
       "    <tr>\n",
       "      <th>2131525</th>\n",
       "      <td>2012-09-18 17:13:00.000000153</td>\n",
       "      <td>9.5</td>\n",
       "      <td>2012-09-18 17:13:00+00:00</td>\n",
       "      <td>-73.979395</td>\n",
       "      <td>40.752990</td>\n",
       "      <td>-2125.745368</td>\n",
       "      <td>0.000000</td>\n",
       "      <td>1</td>\n",
       "      <td>11532.176571</td>\n",
       "      <td>2012</td>\n",
       "      <td>9</td>\n",
       "      <td>18</td>\n",
       "      <td>1</td>\n",
       "      <td>17</td>\n",
       "    </tr>\n",
       "    <tr>\n",
       "      <th>558552</th>\n",
       "      <td>2012-05-24 09:00:00.000000101</td>\n",
       "      <td>17.7</td>\n",
       "      <td>2012-05-24 09:00:00+00:00</td>\n",
       "      <td>-73.997572</td>\n",
       "      <td>40.720945</td>\n",
       "      <td>-1329.621332</td>\n",
       "      <td>40.773717</td>\n",
       "      <td>1</td>\n",
       "      <td>10942.515639</td>\n",
       "      <td>2012</td>\n",
       "      <td>5</td>\n",
       "      <td>24</td>\n",
       "      <td>3</td>\n",
       "      <td>9</td>\n",
       "    </tr>\n",
       "    <tr>\n",
       "      <th>139610</th>\n",
       "      <td>2012-09-13 07:34:00.000000101</td>\n",
       "      <td>12.5</td>\n",
       "      <td>2012-09-13 07:34:00+00:00</td>\n",
       "      <td>-73.970357</td>\n",
       "      <td>40.757368</td>\n",
       "      <td>-0.068333</td>\n",
       "      <td>3210.337087</td>\n",
       "      <td>1</td>\n",
       "      <td>10906.196104</td>\n",
       "      <td>2012</td>\n",
       "      <td>9</td>\n",
       "      <td>13</td>\n",
       "      <td>3</td>\n",
       "      <td>7</td>\n",
       "    </tr>\n",
       "    <tr>\n",
       "      <th>...</th>\n",
       "      <td>...</td>\n",
       "      <td>...</td>\n",
       "      <td>...</td>\n",
       "      <td>...</td>\n",
       "      <td>...</td>\n",
       "      <td>...</td>\n",
       "      <td>...</td>\n",
       "      <td>...</td>\n",
       "      <td>...</td>\n",
       "      <td>...</td>\n",
       "      <td>...</td>\n",
       "      <td>...</td>\n",
       "      <td>...</td>\n",
       "      <td>...</td>\n",
       "    </tr>\n",
       "    <tr>\n",
       "      <th>2295535</th>\n",
       "      <td>2010-02-10 20:18:01.000000200</td>\n",
       "      <td>0.0</td>\n",
       "      <td>2010-02-10 20:18:01+00:00</td>\n",
       "      <td>-74.003095</td>\n",
       "      <td>40.743403</td>\n",
       "      <td>-74.003095</td>\n",
       "      <td>40.743403</td>\n",
       "      <td>1</td>\n",
       "      <td>0.000000</td>\n",
       "      <td>2010</td>\n",
       "      <td>2</td>\n",
       "      <td>10</td>\n",
       "      <td>2</td>\n",
       "      <td>20</td>\n",
       "    </tr>\n",
       "    <tr>\n",
       "      <th>2478979</th>\n",
       "      <td>2015-05-27 23:10:03.000000400</td>\n",
       "      <td>0.0</td>\n",
       "      <td>2015-05-27 23:10:03+00:00</td>\n",
       "      <td>-73.994125</td>\n",
       "      <td>40.741131</td>\n",
       "      <td>-73.994125</td>\n",
       "      <td>40.741131</td>\n",
       "      <td>1</td>\n",
       "      <td>0.000000</td>\n",
       "      <td>2015</td>\n",
       "      <td>5</td>\n",
       "      <td>27</td>\n",
       "      <td>2</td>\n",
       "      <td>23</td>\n",
       "    </tr>\n",
       "    <tr>\n",
       "      <th>2532364</th>\n",
       "      <td>2015-02-19 09:43:11.000000700</td>\n",
       "      <td>0.0</td>\n",
       "      <td>2015-02-19 09:43:11+00:00</td>\n",
       "      <td>-73.953857</td>\n",
       "      <td>40.813251</td>\n",
       "      <td>-73.953857</td>\n",
       "      <td>40.813251</td>\n",
       "      <td>1</td>\n",
       "      <td>0.000000</td>\n",
       "      <td>2015</td>\n",
       "      <td>2</td>\n",
       "      <td>19</td>\n",
       "      <td>3</td>\n",
       "      <td>9</td>\n",
       "    </tr>\n",
       "    <tr>\n",
       "      <th>2585642</th>\n",
       "      <td>2010-02-03 11:44:07.000000200</td>\n",
       "      <td>0.0</td>\n",
       "      <td>2010-02-03 11:44:07+00:00</td>\n",
       "      <td>-74.014147</td>\n",
       "      <td>40.710546</td>\n",
       "      <td>-74.014147</td>\n",
       "      <td>40.710546</td>\n",
       "      <td>1</td>\n",
       "      <td>0.000000</td>\n",
       "      <td>2010</td>\n",
       "      <td>2</td>\n",
       "      <td>3</td>\n",
       "      <td>2</td>\n",
       "      <td>11</td>\n",
       "    </tr>\n",
       "    <tr>\n",
       "      <th>3034648</th>\n",
       "      <td>2015-03-04 22:33:39.000000800</td>\n",
       "      <td>0.0</td>\n",
       "      <td>2015-03-04 22:33:39+00:00</td>\n",
       "      <td>-74.043442</td>\n",
       "      <td>40.788208</td>\n",
       "      <td>-74.043442</td>\n",
       "      <td>40.788208</td>\n",
       "      <td>1</td>\n",
       "      <td>0.000000</td>\n",
       "      <td>2015</td>\n",
       "      <td>3</td>\n",
       "      <td>4</td>\n",
       "      <td>2</td>\n",
       "      <td>22</td>\n",
       "    </tr>\n",
       "  </tbody>\n",
       "</table>\n",
       "<p>3821710 rows × 14 columns</p>\n",
       "</div>"
      ],
      "text/plain": [
       "                                  key  fare_amount  ... Day of Week  Hour\n",
       "2787565 2013-01-02 11:33:00.000000200         15.0  ...           2    11\n",
       "2259897 2012-06-03 11:19:37.000000200         32.1  ...           6    11\n",
       "2131525 2012-09-18 17:13:00.000000153          9.5  ...           1    17\n",
       "558552  2012-05-24 09:00:00.000000101         17.7  ...           3     9\n",
       "139610  2012-09-13 07:34:00.000000101         12.5  ...           3     7\n",
       "...                               ...          ...  ...         ...   ...\n",
       "2295535 2010-02-10 20:18:01.000000200          0.0  ...           2    20\n",
       "2478979 2015-05-27 23:10:03.000000400          0.0  ...           2    23\n",
       "2532364 2015-02-19 09:43:11.000000700          0.0  ...           3     9\n",
       "2585642 2010-02-03 11:44:07.000000200          0.0  ...           2    11\n",
       "3034648 2015-03-04 22:33:39.000000800          0.0  ...           2    22\n",
       "\n",
       "[3821710 rows x 14 columns]"
      ]
     },
     "execution_count": 53,
     "metadata": {
      "tags": []
     },
     "output_type": "execute_result"
    }
   ],
   "source": [
    "train.sort_values(['Distance','fare_amount'], ascending=False)"
   ]
  },
  {
   "cell_type": "code",
   "execution_count": 54,
   "metadata": {
    "colab": {
     "base_uri": "https://localhost:8080/",
     "height": 34
    },
    "colab_type": "code",
    "id": "TVzosB3qvq8A",
    "outputId": "5f0b0989-ab33-41b6-f981-7c58d477be64"
   },
   "outputs": [
    {
     "data": {
      "text/plain": [
       "3821710"
      ]
     },
     "execution_count": 54,
     "metadata": {
      "tags": []
     },
     "output_type": "execute_result"
    }
   ],
   "source": [
    "len(train)"
   ]
  },
  {
   "cell_type": "code",
   "execution_count": 55,
   "metadata": {
    "colab": {
     "base_uri": "https://localhost:8080/",
     "height": 34
    },
    "colab_type": "code",
    "id": "1mXe9pusvq8C",
    "outputId": "b9ce36a2-d91a-4f0a-afbd-ffb900cfd1f3"
   },
   "outputs": [
    {
     "data": {
      "text/plain": [
       "Index(['Distance', 'bins'], dtype='object')"
      ]
     },
     "execution_count": 55,
     "metadata": {
      "tags": []
     },
     "output_type": "execute_result"
    }
   ],
   "source": [
    "bins_0 = train.loc[(train['Distance'] == 0), ['Distance']]\n",
    "bins_1 = train.loc[(train['Distance'] > 0) & (train['Distance'] <= 10),['Distance']]\n",
    "bins_2 = train.loc[(train['Distance'] > 10) & (train['Distance'] <= 50),['Distance']]\n",
    "bins_3 = train.loc[(train['Distance'] > 50) & (train['Distance'] <= 100),['Distance']]\n",
    "\n",
    "bins_0['bins'] = '0'\n",
    "bins_1['bins'] = '0-10'\n",
    "bins_2['bins'] = '11-50'\n",
    "bins_3['bins'] = '51-100'\n",
    "dist_bins =pd.concat([bins_0,bins_1,bins_2,bins_3])\n",
    "dist_bins.columns"
   ]
  },
  {
   "cell_type": "code",
   "execution_count": 91,
   "metadata": {
    "colab": {
     "base_uri": "https://localhost:8080/",
     "height": 479
    },
    "colab_type": "code",
    "id": "m2JWyr-pEbbP",
    "outputId": "70d1b99e-bdbf-4e6b-83f5-377bd26571c0"
   },
   "outputs": [
    {
     "data": {
      "text/plain": [
       "Text(0, 0.5, 'Frequency')"
      ]
     },
     "execution_count": 91,
     "metadata": {
      "tags": []
     },
     "output_type": "execute_result"
    },
    {
     "data": {
      "image/png": "[encoded data removed]",
      "text/plain": [
       "<Figure size 1080x504 with 1 Axes>"
      ]
     },
     "metadata": {
      "tags": []
     },
     "output_type": "display_data"
    }
   ],
   "source": [
    "plt.figure(figsize=(15,7))\n",
    "plt.hist(dist_bins['bins'], bins=75)\n",
    "plt.xlabel('Bins')\n",
    "plt.ylabel('Frequency')"
   ]
  },
  {
   "cell_type": "code",
   "execution_count": 56,
   "metadata": {
    "colab": {
     "base_uri": "https://localhost:8080/",
     "height": 34
    },
    "colab_type": "code",
    "id": "VYSVmabtvq8E",
    "outputId": "389e71d3-452f-4c8b-dc8f-53710f04bcbf"
   },
   "outputs": [
    {
     "data": {
      "text/plain": [
       "Counter({'0': 40526, '0-10': 3585006, '11-50': 191269, '51-100': 602})"
      ]
     },
     "execution_count": 56,
     "metadata": {
      "tags": []
     },
     "output_type": "execute_result"
    }
   ],
   "source": [
    "Counter(dist_bins['bins'])"
   ]
  },
  {
   "cell_type": "code",
   "execution_count": 57,
   "metadata": {
    "colab": {
     "base_uri": "https://localhost:8080/",
     "height": 103
    },
    "colab_type": "code",
    "id": "9JrHyvlBvq8G",
    "outputId": "85bafa3c-a9bb-42e5-c3fe-af892c70e360"
   },
   "outputs": [
    {
     "data": {
      "text/html": [
       "<div>\n",
       "<style scoped>\n",
       "    .dataframe tbody tr th:only-of-type {\n",
       "        vertical-align: middle;\n",
       "    }\n",
       "\n",
       "    .dataframe tbody tr th {\n",
       "        vertical-align: top;\n",
       "    }\n",
       "\n",
       "    .dataframe thead th {\n",
       "        text-align: right;\n",
       "    }\n",
       "</style>\n",
       "<table border=\"1\" class=\"dataframe\">\n",
       "  <thead>\n",
       "    <tr style=\"text-align: right;\">\n",
       "      <th></th>\n",
       "      <th>key</th>\n",
       "      <th>fare_amount</th>\n",
       "      <th>pickup_datetime</th>\n",
       "      <th>pickup_longitude</th>\n",
       "      <th>pickup_latitude</th>\n",
       "      <th>dropoff_longitude</th>\n",
       "      <th>dropoff_latitude</th>\n",
       "      <th>passenger_count</th>\n",
       "      <th>Distance</th>\n",
       "      <th>Year</th>\n",
       "      <th>Month</th>\n",
       "      <th>Date</th>\n",
       "      <th>Day of Week</th>\n",
       "      <th>Hour</th>\n",
       "    </tr>\n",
       "  </thead>\n",
       "  <tbody>\n",
       "  </tbody>\n",
       "</table>\n",
       "</div>"
      ],
      "text/plain": [
       "Empty DataFrame\n",
       "Columns: [key, fare_amount, pickup_datetime, pickup_longitude, pickup_latitude, dropoff_longitude, dropoff_latitude, passenger_count, Distance, Year, Month, Date, Day of Week, Hour]\n",
       "Index: []"
      ]
     },
     "execution_count": 57,
     "metadata": {
      "tags": []
     },
     "output_type": "execute_result"
    }
   ],
   "source": [
    "#pickup latitude and longitude = 0\n",
    "train.loc[((train['pickup_latitude']==0) & (train['pickup_longitude']==0))&((train['dropoff_latitude']!=0) & (train['dropoff_longitude']!=0)) & (train['fare_amount']==0)]"
   ]
  },
  {
   "cell_type": "code",
   "execution_count": 0,
   "metadata": {
    "colab": {},
    "colab_type": "code",
    "id": "XznERqU_vq8I"
   },
   "outputs": [],
   "source": [
    "train = train.drop(train.loc[((train['pickup_latitude']==0) & (train['pickup_longitude']==0))&((train['dropoff_latitude']!=0) & (train['dropoff_longitude']!=0)) & (train['fare_amount']==0)].index, axis=0)"
   ]
  },
  {
   "cell_type": "code",
   "execution_count": 59,
   "metadata": {
    "colab": {
     "base_uri": "https://localhost:8080/",
     "height": 34
    },
    "colab_type": "code",
    "id": "o5Pbq26Fvq8J",
    "outputId": "48790896-f12a-40ad-b692-4706c607d634"
   },
   "outputs": [
    {
     "data": {
      "text/plain": [
       "(3821710, 14)"
      ]
     },
     "execution_count": 59,
     "metadata": {
      "tags": []
     },
     "output_type": "execute_result"
    }
   ],
   "source": [
    "train.shape"
   ]
  },
  {
   "cell_type": "code",
   "execution_count": 60,
   "metadata": {
    "colab": {
     "base_uri": "https://localhost:8080/",
     "height": 643
    },
    "colab_type": "code",
    "id": "tp3NKYtFvq8L",
    "outputId": "69ab6994-74e0-47ed-8cbd-079e9c5c522b"
   },
   "outputs": [
    {
     "data": {
      "text/html": [
       "<div>\n",
       "<style scoped>\n",
       "    .dataframe tbody tr th:only-of-type {\n",
       "        vertical-align: middle;\n",
       "    }\n",
       "\n",
       "    .dataframe tbody tr th {\n",
       "        vertical-align: top;\n",
       "    }\n",
       "\n",
       "    .dataframe thead th {\n",
       "        text-align: right;\n",
       "    }\n",
       "</style>\n",
       "<table border=\"1\" class=\"dataframe\">\n",
       "  <thead>\n",
       "    <tr style=\"text-align: right;\">\n",
       "      <th></th>\n",
       "      <th>key</th>\n",
       "      <th>pickup_datetime</th>\n",
       "      <th>pickup_longitude</th>\n",
       "      <th>pickup_latitude</th>\n",
       "      <th>dropoff_longitude</th>\n",
       "      <th>dropoff_latitude</th>\n",
       "      <th>passenger_count</th>\n",
       "      <th>Distance</th>\n",
       "      <th>Year</th>\n",
       "      <th>Month</th>\n",
       "      <th>Date</th>\n",
       "      <th>Day of Week</th>\n",
       "      <th>Hour</th>\n",
       "    </tr>\n",
       "  </thead>\n",
       "  <tbody>\n",
       "    <tr>\n",
       "      <th>71</th>\n",
       "      <td>2009-01-01 00:29:51.000000700</td>\n",
       "      <td>2009-01-01 00:29:51+00:00</td>\n",
       "      <td>0.0</td>\n",
       "      <td>0.0</td>\n",
       "      <td>-74.017672</td>\n",
       "      <td>40.717668</td>\n",
       "      <td>1</td>\n",
       "      <td>8668.134588</td>\n",
       "      <td>2009</td>\n",
       "      <td>1</td>\n",
       "      <td>1</td>\n",
       "      <td>3</td>\n",
       "      <td>0</td>\n",
       "    </tr>\n",
       "    <tr>\n",
       "      <th>1655</th>\n",
       "      <td>2009-01-01 15:09:00.000000139</td>\n",
       "      <td>2009-01-01 15:09:00+00:00</td>\n",
       "      <td>0.0</td>\n",
       "      <td>0.0</td>\n",
       "      <td>-73.965030</td>\n",
       "      <td>40.755433</td>\n",
       "      <td>1</td>\n",
       "      <td>8664.547831</td>\n",
       "      <td>2009</td>\n",
       "      <td>1</td>\n",
       "      <td>1</td>\n",
       "      <td>3</td>\n",
       "      <td>15</td>\n",
       "    </tr>\n",
       "    <tr>\n",
       "      <th>3652</th>\n",
       "      <td>2009-01-02 06:49:00.000000580</td>\n",
       "      <td>2009-01-02 06:49:00+00:00</td>\n",
       "      <td>0.0</td>\n",
       "      <td>0.0</td>\n",
       "      <td>-73.973252</td>\n",
       "      <td>40.760880</td>\n",
       "      <td>3</td>\n",
       "      <td>8665.340143</td>\n",
       "      <td>2009</td>\n",
       "      <td>1</td>\n",
       "      <td>2</td>\n",
       "      <td>4</td>\n",
       "      <td>6</td>\n",
       "    </tr>\n",
       "    <tr>\n",
       "      <th>4781</th>\n",
       "      <td>2009-01-02 14:15:00.000000172</td>\n",
       "      <td>2009-01-02 14:15:00+00:00</td>\n",
       "      <td>0.0</td>\n",
       "      <td>0.0</td>\n",
       "      <td>-73.965092</td>\n",
       "      <td>40.755162</td>\n",
       "      <td>5</td>\n",
       "      <td>8664.547407</td>\n",
       "      <td>2009</td>\n",
       "      <td>1</td>\n",
       "      <td>2</td>\n",
       "      <td>4</td>\n",
       "      <td>14</td>\n",
       "    </tr>\n",
       "    <tr>\n",
       "      <th>7569</th>\n",
       "      <td>2009-01-03 02:56:28.000000200</td>\n",
       "      <td>2009-01-03 02:56:28+00:00</td>\n",
       "      <td>0.0</td>\n",
       "      <td>0.0</td>\n",
       "      <td>-73.992067</td>\n",
       "      <td>40.749962</td>\n",
       "      <td>4</td>\n",
       "      <td>8666.674194</td>\n",
       "      <td>2009</td>\n",
       "      <td>1</td>\n",
       "      <td>3</td>\n",
       "      <td>5</td>\n",
       "      <td>2</td>\n",
       "    </tr>\n",
       "    <tr>\n",
       "      <th>...</th>\n",
       "      <td>...</td>\n",
       "      <td>...</td>\n",
       "      <td>...</td>\n",
       "      <td>...</td>\n",
       "      <td>...</td>\n",
       "      <td>...</td>\n",
       "      <td>...</td>\n",
       "      <td>...</td>\n",
       "      <td>...</td>\n",
       "      <td>...</td>\n",
       "      <td>...</td>\n",
       "      <td>...</td>\n",
       "      <td>...</td>\n",
       "    </tr>\n",
       "    <tr>\n",
       "      <th>11081627</th>\n",
       "      <td>2015-06-30 07:45:23.000000700</td>\n",
       "      <td>2015-06-30 07:45:23+00:00</td>\n",
       "      <td>0.0</td>\n",
       "      <td>0.0</td>\n",
       "      <td>-73.970345</td>\n",
       "      <td>40.761570</td>\n",
       "      <td>1</td>\n",
       "      <td>8665.113609</td>\n",
       "      <td>2015</td>\n",
       "      <td>6</td>\n",
       "      <td>30</td>\n",
       "      <td>1</td>\n",
       "      <td>7</td>\n",
       "    </tr>\n",
       "    <tr>\n",
       "      <th>11081992</th>\n",
       "      <td>2015-06-30 09:39:15.000000500</td>\n",
       "      <td>2015-06-30 09:39:15+00:00</td>\n",
       "      <td>0.0</td>\n",
       "      <td>0.0</td>\n",
       "      <td>-73.968040</td>\n",
       "      <td>40.792850</td>\n",
       "      <td>1</td>\n",
       "      <td>8665.564452</td>\n",
       "      <td>2015</td>\n",
       "      <td>6</td>\n",
       "      <td>30</td>\n",
       "      <td>1</td>\n",
       "      <td>9</td>\n",
       "    </tr>\n",
       "    <tr>\n",
       "      <th>11082992</th>\n",
       "      <td>2015-06-30 15:01:31.000000100</td>\n",
       "      <td>2015-06-30 15:01:31+00:00</td>\n",
       "      <td>0.0</td>\n",
       "      <td>0.0</td>\n",
       "      <td>-73.983955</td>\n",
       "      <td>40.737778</td>\n",
       "      <td>1</td>\n",
       "      <td>8665.753087</td>\n",
       "      <td>2015</td>\n",
       "      <td>6</td>\n",
       "      <td>30</td>\n",
       "      <td>1</td>\n",
       "      <td>15</td>\n",
       "    </tr>\n",
       "    <tr>\n",
       "      <th>11083472</th>\n",
       "      <td>2015-06-30 17:48:26.000000100</td>\n",
       "      <td>2015-06-30 17:48:26+00:00</td>\n",
       "      <td>0.0</td>\n",
       "      <td>0.0</td>\n",
       "      <td>-73.988312</td>\n",
       "      <td>40.720364</td>\n",
       "      <td>1</td>\n",
       "      <td>8665.757480</td>\n",
       "      <td>2015</td>\n",
       "      <td>6</td>\n",
       "      <td>30</td>\n",
       "      <td>1</td>\n",
       "      <td>17</td>\n",
       "    </tr>\n",
       "    <tr>\n",
       "      <th>11083620</th>\n",
       "      <td>2015-06-30 18:29:46.000000400</td>\n",
       "      <td>2015-06-30 18:29:46+00:00</td>\n",
       "      <td>0.0</td>\n",
       "      <td>0.0</td>\n",
       "      <td>-73.723824</td>\n",
       "      <td>41.220131</td>\n",
       "      <td>1</td>\n",
       "      <td>8654.303422</td>\n",
       "      <td>2015</td>\n",
       "      <td>6</td>\n",
       "      <td>30</td>\n",
       "      <td>1</td>\n",
       "      <td>18</td>\n",
       "    </tr>\n",
       "  </tbody>\n",
       "</table>\n",
       "<p>9708 rows × 13 columns</p>\n",
       "</div>"
      ],
      "text/plain": [
       "                                   key  ... Hour\n",
       "71       2009-01-01 00:29:51.000000700  ...    0\n",
       "1655     2009-01-01 15:09:00.000000139  ...   15\n",
       "3652     2009-01-02 06:49:00.000000580  ...    6\n",
       "4781     2009-01-02 14:15:00.000000172  ...   14\n",
       "7569     2009-01-03 02:56:28.000000200  ...    2\n",
       "...                                ...  ...  ...\n",
       "11081627 2015-06-30 07:45:23.000000700  ...    7\n",
       "11081992 2015-06-30 09:39:15.000000500  ...    9\n",
       "11082992 2015-06-30 15:01:31.000000100  ...   15\n",
       "11083472 2015-06-30 17:48:26.000000100  ...   17\n",
       "11083620 2015-06-30 18:29:46.000000400  ...   18\n",
       "\n",
       "[9708 rows x 13 columns]"
      ]
     },
     "execution_count": 60,
     "metadata": {
      "tags": []
     },
     "output_type": "execute_result"
    }
   ],
   "source": [
    "test.loc[((test['pickup_latitude']==0) & (test['pickup_longitude']==0))&((test['dropoff_latitude']!=0) & (test['dropoff_longitude']!=0))]"
   ]
  },
  {
   "cell_type": "code",
   "execution_count": 61,
   "metadata": {
    "colab": {
     "base_uri": "https://localhost:8080/",
     "height": 679
    },
    "colab_type": "code",
    "id": "uZ1vnFTIvq8Q",
    "outputId": "85c0e442-5f21-4864-8691-4a9e3c2370e5"
   },
   "outputs": [
    {
     "data": {
      "text/html": [
       "<div>\n",
       "<style scoped>\n",
       "    .dataframe tbody tr th:only-of-type {\n",
       "        vertical-align: middle;\n",
       "    }\n",
       "\n",
       "    .dataframe tbody tr th {\n",
       "        vertical-align: top;\n",
       "    }\n",
       "\n",
       "    .dataframe thead th {\n",
       "        text-align: right;\n",
       "    }\n",
       "</style>\n",
       "<table border=\"1\" class=\"dataframe\">\n",
       "  <thead>\n",
       "    <tr style=\"text-align: right;\">\n",
       "      <th></th>\n",
       "      <th>key</th>\n",
       "      <th>fare_amount</th>\n",
       "      <th>pickup_datetime</th>\n",
       "      <th>pickup_longitude</th>\n",
       "      <th>pickup_latitude</th>\n",
       "      <th>dropoff_longitude</th>\n",
       "      <th>dropoff_latitude</th>\n",
       "      <th>passenger_count</th>\n",
       "      <th>Distance</th>\n",
       "      <th>Year</th>\n",
       "      <th>Month</th>\n",
       "      <th>Date</th>\n",
       "      <th>Day of Week</th>\n",
       "      <th>Hour</th>\n",
       "    </tr>\n",
       "  </thead>\n",
       "  <tbody>\n",
       "    <tr>\n",
       "      <th>390287</th>\n",
       "      <td>2013-08-18 00:21:42.000000200</td>\n",
       "      <td>0.0</td>\n",
       "      <td>2013-08-18 00:21:42+00:00</td>\n",
       "      <td>-73.988647</td>\n",
       "      <td>40.731393</td>\n",
       "      <td>0.0</td>\n",
       "      <td>0.0</td>\n",
       "      <td>1</td>\n",
       "      <td>8666.010941</td>\n",
       "      <td>2013</td>\n",
       "      <td>8</td>\n",
       "      <td>18</td>\n",
       "      <td>6</td>\n",
       "      <td>0</td>\n",
       "    </tr>\n",
       "    <tr>\n",
       "      <th>637348</th>\n",
       "      <td>2015-05-04 00:52:14.000000200</td>\n",
       "      <td>0.0</td>\n",
       "      <td>2015-05-04 00:52:14+00:00</td>\n",
       "      <td>-73.887604</td>\n",
       "      <td>40.716785</td>\n",
       "      <td>0.0</td>\n",
       "      <td>0.0</td>\n",
       "      <td>1</td>\n",
       "      <td>8657.342504</td>\n",
       "      <td>2015</td>\n",
       "      <td>5</td>\n",
       "      <td>4</td>\n",
       "      <td>0</td>\n",
       "      <td>0</td>\n",
       "    </tr>\n",
       "    <tr>\n",
       "      <th>917514</th>\n",
       "      <td>2015-06-09 20:31:04.000000600</td>\n",
       "      <td>0.0</td>\n",
       "      <td>2015-06-09 20:31:04+00:00</td>\n",
       "      <td>-73.967117</td>\n",
       "      <td>40.766876</td>\n",
       "      <td>0.0</td>\n",
       "      <td>0.0</td>\n",
       "      <td>1</td>\n",
       "      <td>8664.955274</td>\n",
       "      <td>2015</td>\n",
       "      <td>6</td>\n",
       "      <td>9</td>\n",
       "      <td>1</td>\n",
       "      <td>20</td>\n",
       "    </tr>\n",
       "    <tr>\n",
       "      <th>1175434</th>\n",
       "      <td>2015-05-30 03:23:01.000000200</td>\n",
       "      <td>0.0</td>\n",
       "      <td>2015-05-30 03:23:01+00:00</td>\n",
       "      <td>-74.002304</td>\n",
       "      <td>40.708973</td>\n",
       "      <td>0.0</td>\n",
       "      <td>0.0</td>\n",
       "      <td>1</td>\n",
       "      <td>8666.683730</td>\n",
       "      <td>2015</td>\n",
       "      <td>5</td>\n",
       "      <td>30</td>\n",
       "      <td>5</td>\n",
       "      <td>3</td>\n",
       "    </tr>\n",
       "    <tr>\n",
       "      <th>1245100</th>\n",
       "      <td>2015-06-08 05:19:21.000000200</td>\n",
       "      <td>0.0</td>\n",
       "      <td>2015-06-08 05:19:21+00:00</td>\n",
       "      <td>-73.984421</td>\n",
       "      <td>40.728683</td>\n",
       "      <td>0.0</td>\n",
       "      <td>0.0</td>\n",
       "      <td>1</td>\n",
       "      <td>8665.605456</td>\n",
       "      <td>2015</td>\n",
       "      <td>6</td>\n",
       "      <td>8</td>\n",
       "      <td>0</td>\n",
       "      <td>5</td>\n",
       "    </tr>\n",
       "    <tr>\n",
       "      <th>1248891</th>\n",
       "      <td>2015-06-23 22:39:47.000000300</td>\n",
       "      <td>0.0</td>\n",
       "      <td>2015-06-23 22:39:47+00:00</td>\n",
       "      <td>-73.973373</td>\n",
       "      <td>40.747875</td>\n",
       "      <td>0.0</td>\n",
       "      <td>0.0</td>\n",
       "      <td>1</td>\n",
       "      <td>8665.083672</td>\n",
       "      <td>2015</td>\n",
       "      <td>6</td>\n",
       "      <td>23</td>\n",
       "      <td>1</td>\n",
       "      <td>22</td>\n",
       "    </tr>\n",
       "    <tr>\n",
       "      <th>1368168</th>\n",
       "      <td>2013-08-25 01:47:26.000000200</td>\n",
       "      <td>0.0</td>\n",
       "      <td>2013-08-25 01:47:26+00:00</td>\n",
       "      <td>-73.996752</td>\n",
       "      <td>40.763577</td>\n",
       "      <td>0.0</td>\n",
       "      <td>0.0</td>\n",
       "      <td>2</td>\n",
       "      <td>8667.340731</td>\n",
       "      <td>2013</td>\n",
       "      <td>8</td>\n",
       "      <td>25</td>\n",
       "      <td>6</td>\n",
       "      <td>1</td>\n",
       "    </tr>\n",
       "    <tr>\n",
       "      <th>1854169</th>\n",
       "      <td>2013-08-06 23:11:41.000000400</td>\n",
       "      <td>0.0</td>\n",
       "      <td>2013-08-06 23:11:41+00:00</td>\n",
       "      <td>-73.993769</td>\n",
       "      <td>40.720913</td>\n",
       "      <td>0.0</td>\n",
       "      <td>0.0</td>\n",
       "      <td>1</td>\n",
       "      <td>8666.220774</td>\n",
       "      <td>2013</td>\n",
       "      <td>8</td>\n",
       "      <td>6</td>\n",
       "      <td>1</td>\n",
       "      <td>23</td>\n",
       "    </tr>\n",
       "    <tr>\n",
       "      <th>2060955</th>\n",
       "      <td>2015-03-22 00:36:37.000000900</td>\n",
       "      <td>0.0</td>\n",
       "      <td>2015-03-22 00:36:37+00:00</td>\n",
       "      <td>-73.952240</td>\n",
       "      <td>40.749435</td>\n",
       "      <td>0.0</td>\n",
       "      <td>0.0</td>\n",
       "      <td>1</td>\n",
       "      <td>8663.365938</td>\n",
       "      <td>2015</td>\n",
       "      <td>3</td>\n",
       "      <td>22</td>\n",
       "      <td>6</td>\n",
       "      <td>0</td>\n",
       "    </tr>\n",
       "    <tr>\n",
       "      <th>2577110</th>\n",
       "      <td>2015-03-25 01:14:37.000000100</td>\n",
       "      <td>0.0</td>\n",
       "      <td>2015-03-25 01:14:37+00:00</td>\n",
       "      <td>-73.937645</td>\n",
       "      <td>40.758244</td>\n",
       "      <td>0.0</td>\n",
       "      <td>0.0</td>\n",
       "      <td>1</td>\n",
       "      <td>8662.338538</td>\n",
       "      <td>2015</td>\n",
       "      <td>3</td>\n",
       "      <td>25</td>\n",
       "      <td>2</td>\n",
       "      <td>1</td>\n",
       "    </tr>\n",
       "    <tr>\n",
       "      <th>3512127</th>\n",
       "      <td>2015-05-03 23:22:38.000000100</td>\n",
       "      <td>0.0</td>\n",
       "      <td>2015-05-03 23:22:38+00:00</td>\n",
       "      <td>-73.790138</td>\n",
       "      <td>40.643627</td>\n",
       "      <td>0.0</td>\n",
       "      <td>0.0</td>\n",
       "      <td>1</td>\n",
       "      <td>8647.756537</td>\n",
       "      <td>2015</td>\n",
       "      <td>5</td>\n",
       "      <td>3</td>\n",
       "      <td>6</td>\n",
       "      <td>23</td>\n",
       "    </tr>\n",
       "    <tr>\n",
       "      <th>3515968</th>\n",
       "      <td>2015-04-28 11:18:39.000000400</td>\n",
       "      <td>0.0</td>\n",
       "      <td>2015-04-28 11:18:39+00:00</td>\n",
       "      <td>-73.996246</td>\n",
       "      <td>40.748653</td>\n",
       "      <td>0.0</td>\n",
       "      <td>0.0</td>\n",
       "      <td>1</td>\n",
       "      <td>8666.993460</td>\n",
       "      <td>2015</td>\n",
       "      <td>4</td>\n",
       "      <td>28</td>\n",
       "      <td>1</td>\n",
       "      <td>11</td>\n",
       "    </tr>\n",
       "  </tbody>\n",
       "</table>\n",
       "</div>"
      ],
      "text/plain": [
       "                                  key  fare_amount  ... Day of Week  Hour\n",
       "390287  2013-08-18 00:21:42.000000200          0.0  ...           6     0\n",
       "637348  2015-05-04 00:52:14.000000200          0.0  ...           0     0\n",
       "917514  2015-06-09 20:31:04.000000600          0.0  ...           1    20\n",
       "1175434 2015-05-30 03:23:01.000000200          0.0  ...           5     3\n",
       "1245100 2015-06-08 05:19:21.000000200          0.0  ...           0     5\n",
       "1248891 2015-06-23 22:39:47.000000300          0.0  ...           1    22\n",
       "1368168 2013-08-25 01:47:26.000000200          0.0  ...           6     1\n",
       "1854169 2013-08-06 23:11:41.000000400          0.0  ...           1    23\n",
       "2060955 2015-03-22 00:36:37.000000900          0.0  ...           6     0\n",
       "2577110 2015-03-25 01:14:37.000000100          0.0  ...           2     1\n",
       "3512127 2015-05-03 23:22:38.000000100          0.0  ...           6    23\n",
       "3515968 2015-04-28 11:18:39.000000400          0.0  ...           1    11\n",
       "\n",
       "[12 rows x 14 columns]"
      ]
     },
     "execution_count": 61,
     "metadata": {
      "tags": []
     },
     "output_type": "execute_result"
    }
   ],
   "source": [
    "train.loc[((train['pickup_latitude']!=0) & (train['pickup_longitude']!=0))&((train['dropoff_latitude']==0) & (train['dropoff_longitude']==0)) & (train['fare_amount']==0)]"
   ]
  },
  {
   "cell_type": "code",
   "execution_count": 62,
   "metadata": {
    "colab": {
     "base_uri": "https://localhost:8080/",
     "height": 643
    },
    "colab_type": "code",
    "id": "4SehHxbovq8S",
    "outputId": "a2943121-ab3d-49b4-8773-1d71b1e5e3da"
   },
   "outputs": [
    {
     "data": {
      "text/html": [
       "<div>\n",
       "<style scoped>\n",
       "    .dataframe tbody tr th:only-of-type {\n",
       "        vertical-align: middle;\n",
       "    }\n",
       "\n",
       "    .dataframe tbody tr th {\n",
       "        vertical-align: top;\n",
       "    }\n",
       "\n",
       "    .dataframe thead th {\n",
       "        text-align: right;\n",
       "    }\n",
       "</style>\n",
       "<table border=\"1\" class=\"dataframe\">\n",
       "  <thead>\n",
       "    <tr style=\"text-align: right;\">\n",
       "      <th></th>\n",
       "      <th>key</th>\n",
       "      <th>pickup_datetime</th>\n",
       "      <th>pickup_longitude</th>\n",
       "      <th>pickup_latitude</th>\n",
       "      <th>dropoff_longitude</th>\n",
       "      <th>dropoff_latitude</th>\n",
       "      <th>passenger_count</th>\n",
       "      <th>Distance</th>\n",
       "      <th>Year</th>\n",
       "      <th>Month</th>\n",
       "      <th>Date</th>\n",
       "      <th>Day of Week</th>\n",
       "      <th>Hour</th>\n",
       "    </tr>\n",
       "  </thead>\n",
       "  <tbody>\n",
       "    <tr>\n",
       "      <th>21696</th>\n",
       "      <td>2009-01-06 18:48:00.000000173</td>\n",
       "      <td>2009-01-06 18:48:00+00:00</td>\n",
       "      <td>-73.937302</td>\n",
       "      <td>40.758152</td>\n",
       "      <td>0.0</td>\n",
       "      <td>0.0</td>\n",
       "      <td>1</td>\n",
       "      <td>8662.308268</td>\n",
       "      <td>2009</td>\n",
       "      <td>1</td>\n",
       "      <td>6</td>\n",
       "      <td>1</td>\n",
       "      <td>18</td>\n",
       "    </tr>\n",
       "    <tr>\n",
       "      <th>46820</th>\n",
       "      <td>2009-01-12 10:24:52.000000200</td>\n",
       "      <td>2009-01-12 10:24:52+00:00</td>\n",
       "      <td>-73.968538</td>\n",
       "      <td>40.762048</td>\n",
       "      <td>0.0</td>\n",
       "      <td>0.0</td>\n",
       "      <td>1</td>\n",
       "      <td>8664.973867</td>\n",
       "      <td>2009</td>\n",
       "      <td>1</td>\n",
       "      <td>12</td>\n",
       "      <td>0</td>\n",
       "      <td>10</td>\n",
       "    </tr>\n",
       "    <tr>\n",
       "      <th>55187</th>\n",
       "      <td>2009-01-14 09:05:52.000000400</td>\n",
       "      <td>2009-01-14 09:05:52+00:00</td>\n",
       "      <td>-73.991930</td>\n",
       "      <td>40.764665</td>\n",
       "      <td>0.0</td>\n",
       "      <td>0.0</td>\n",
       "      <td>1</td>\n",
       "      <td>8666.963838</td>\n",
       "      <td>2009</td>\n",
       "      <td>1</td>\n",
       "      <td>14</td>\n",
       "      <td>2</td>\n",
       "      <td>9</td>\n",
       "    </tr>\n",
       "    <tr>\n",
       "      <th>81782</th>\n",
       "      <td>2009-01-19 21:34:00.000000690</td>\n",
       "      <td>2009-01-19 21:34:00+00:00</td>\n",
       "      <td>-73.978960</td>\n",
       "      <td>40.742527</td>\n",
       "      <td>0.0</td>\n",
       "      <td>0.0</td>\n",
       "      <td>1</td>\n",
       "      <td>8665.436681</td>\n",
       "      <td>2009</td>\n",
       "      <td>1</td>\n",
       "      <td>19</td>\n",
       "      <td>0</td>\n",
       "      <td>21</td>\n",
       "    </tr>\n",
       "    <tr>\n",
       "      <th>87555</th>\n",
       "      <td>2009-01-21 10:22:48.000000300</td>\n",
       "      <td>2009-01-21 10:22:48+00:00</td>\n",
       "      <td>-73.974730</td>\n",
       "      <td>40.757546</td>\n",
       "      <td>0.0</td>\n",
       "      <td>0.0</td>\n",
       "      <td>1</td>\n",
       "      <td>8665.394165</td>\n",
       "      <td>2009</td>\n",
       "      <td>1</td>\n",
       "      <td>21</td>\n",
       "      <td>2</td>\n",
       "      <td>10</td>\n",
       "    </tr>\n",
       "    <tr>\n",
       "      <th>...</th>\n",
       "      <td>...</td>\n",
       "      <td>...</td>\n",
       "      <td>...</td>\n",
       "      <td>...</td>\n",
       "      <td>...</td>\n",
       "      <td>...</td>\n",
       "      <td>...</td>\n",
       "      <td>...</td>\n",
       "      <td>...</td>\n",
       "      <td>...</td>\n",
       "      <td>...</td>\n",
       "      <td>...</td>\n",
       "      <td>...</td>\n",
       "    </tr>\n",
       "    <tr>\n",
       "      <th>11082574</th>\n",
       "      <td>2015-06-30 12:47:23.000000300</td>\n",
       "      <td>2015-06-30 12:47:23+00:00</td>\n",
       "      <td>-73.986809</td>\n",
       "      <td>40.750427</td>\n",
       "      <td>0.0</td>\n",
       "      <td>0.0</td>\n",
       "      <td>5</td>\n",
       "      <td>8666.248352</td>\n",
       "      <td>2015</td>\n",
       "      <td>6</td>\n",
       "      <td>30</td>\n",
       "      <td>1</td>\n",
       "      <td>12</td>\n",
       "    </tr>\n",
       "    <tr>\n",
       "      <th>11082760</th>\n",
       "      <td>2015-06-30 13:48:44.000000800</td>\n",
       "      <td>2015-06-30 13:48:44+00:00</td>\n",
       "      <td>-73.776817</td>\n",
       "      <td>40.645145</td>\n",
       "      <td>0.0</td>\n",
       "      <td>0.0</td>\n",
       "      <td>2</td>\n",
       "      <td>8646.683701</td>\n",
       "      <td>2015</td>\n",
       "      <td>6</td>\n",
       "      <td>30</td>\n",
       "      <td>1</td>\n",
       "      <td>13</td>\n",
       "    </tr>\n",
       "    <tr>\n",
       "      <th>11082879</th>\n",
       "      <td>2015-06-30 14:27:26.000000200</td>\n",
       "      <td>2015-06-30 14:27:26+00:00</td>\n",
       "      <td>-73.991066</td>\n",
       "      <td>40.737301</td>\n",
       "      <td>0.0</td>\n",
       "      <td>0.0</td>\n",
       "      <td>1</td>\n",
       "      <td>8666.332179</td>\n",
       "      <td>2015</td>\n",
       "      <td>6</td>\n",
       "      <td>30</td>\n",
       "      <td>1</td>\n",
       "      <td>14</td>\n",
       "    </tr>\n",
       "    <tr>\n",
       "      <th>11082995</th>\n",
       "      <td>2015-06-30 15:02:04.000000500</td>\n",
       "      <td>2015-06-30 15:02:04+00:00</td>\n",
       "      <td>-73.979195</td>\n",
       "      <td>40.777660</td>\n",
       "      <td>0.0</td>\n",
       "      <td>0.0</td>\n",
       "      <td>1</td>\n",
       "      <td>8666.175953</td>\n",
       "      <td>2015</td>\n",
       "      <td>6</td>\n",
       "      <td>30</td>\n",
       "      <td>1</td>\n",
       "      <td>15</td>\n",
       "    </tr>\n",
       "    <tr>\n",
       "      <th>11084132</th>\n",
       "      <td>2015-06-30 20:58:32.000000200</td>\n",
       "      <td>2015-06-30 20:58:32+00:00</td>\n",
       "      <td>-74.001312</td>\n",
       "      <td>40.736141</td>\n",
       "      <td>0.0</td>\n",
       "      <td>0.0</td>\n",
       "      <td>2</td>\n",
       "      <td>8667.157011</td>\n",
       "      <td>2015</td>\n",
       "      <td>6</td>\n",
       "      <td>30</td>\n",
       "      <td>1</td>\n",
       "      <td>20</td>\n",
       "    </tr>\n",
       "  </tbody>\n",
       "</table>\n",
       "<p>9159 rows × 13 columns</p>\n",
       "</div>"
      ],
      "text/plain": [
       "                                   key  ... Hour\n",
       "21696    2009-01-06 18:48:00.000000173  ...   18\n",
       "46820    2009-01-12 10:24:52.000000200  ...   10\n",
       "55187    2009-01-14 09:05:52.000000400  ...    9\n",
       "81782    2009-01-19 21:34:00.000000690  ...   21\n",
       "87555    2009-01-21 10:22:48.000000300  ...   10\n",
       "...                                ...  ...  ...\n",
       "11082574 2015-06-30 12:47:23.000000300  ...   12\n",
       "11082760 2015-06-30 13:48:44.000000800  ...   13\n",
       "11082879 2015-06-30 14:27:26.000000200  ...   14\n",
       "11082995 2015-06-30 15:02:04.000000500  ...   15\n",
       "11084132 2015-06-30 20:58:32.000000200  ...   20\n",
       "\n",
       "[9159 rows x 13 columns]"
      ]
     },
     "execution_count": 62,
     "metadata": {
      "tags": []
     },
     "output_type": "execute_result"
    }
   ],
   "source": [
    "#Checking test data\n",
    "test.loc[((test['pickup_latitude']!=0) & (test['pickup_longitude']!=0))&((test['dropoff_latitude']==0) & (test['dropoff_longitude']==0))]"
   ]
  },
  {
   "cell_type": "code",
   "execution_count": 0,
   "metadata": {
    "colab": {},
    "colab_type": "code",
    "id": "_i8aPzUPvq8U"
   },
   "outputs": [],
   "source": [
    "high_distance = train.loc[(train['Distance']>200)&(train['fare_amount']!=0)]"
   ]
  },
  {
   "cell_type": "code",
   "execution_count": 64,
   "metadata": {
    "colab": {
     "base_uri": "https://localhost:8080/",
     "height": 34
    },
    "colab_type": "code",
    "id": "eeBvpAGhvq8a",
    "outputId": "36def8b4-73bc-42dc-ab0b-0bed32710230"
   },
   "outputs": [
    {
     "data": {
      "text/plain": [
       "(3834, 14)"
      ]
     },
     "execution_count": 64,
     "metadata": {
      "tags": []
     },
     "output_type": "execute_result"
    }
   ],
   "source": [
    "high_distance.shape"
   ]
  },
  {
   "cell_type": "code",
   "execution_count": 65,
   "metadata": {
    "colab": {
     "base_uri": "https://localhost:8080/",
     "height": 139
    },
    "colab_type": "code",
    "id": "zlh2Gj3uvq8c",
    "outputId": "439587e4-ed08-451a-d812-d8927fc93a40"
   },
   "outputs": [
    {
     "name": "stderr",
     "output_type": "stream",
     "text": [
      "/usr/local/lib/python3.6/dist-packages/ipykernel_launcher.py:3: SettingWithCopyWarning: \n",
      "A value is trying to be set on a copy of a slice from a DataFrame.\n",
      "Try using .loc[row_indexer,col_indexer] = value instead\n",
      "\n",
      "See the caveats in the documentation: http://pandas.pydata.org/pandas-docs/stable/user_guide/indexing.html#returning-a-view-versus-a-copy\n",
      "  This is separate from the ipykernel package so we can avoid doing imports until\n"
     ]
    }
   ],
   "source": [
    "high_distance['Distance'] = high_distance.apply(\n",
    "    lambda row: (row['fare_amount'] - 2.50)/1.56,\n",
    "    axis=1\n",
    ")"
   ]
  },
  {
   "cell_type": "code",
   "execution_count": 0,
   "metadata": {
    "colab": {},
    "colab_type": "code",
    "id": "-GChopOMvq8f"
   },
   "outputs": [],
   "source": [
    "train.update(high_distance)"
   ]
  },
  {
   "cell_type": "code",
   "execution_count": 67,
   "metadata": {
    "colab": {
     "base_uri": "https://localhost:8080/",
     "height": 34
    },
    "colab_type": "code",
    "id": "0ATjWvmbvq8g",
    "outputId": "6b9787cf-d045-48b3-8059-440a3c3a7e2e"
   },
   "outputs": [
    {
     "data": {
      "text/plain": [
       "(3821710, 14)"
      ]
     },
     "execution_count": 67,
     "metadata": {
      "tags": []
     },
     "output_type": "execute_result"
    }
   ],
   "source": [
    "train.shape"
   ]
  },
  {
   "cell_type": "code",
   "execution_count": 68,
   "metadata": {
    "colab": {
     "base_uri": "https://localhost:8080/",
     "height": 775
    },
    "colab_type": "code",
    "id": "pYxe5kPavq8i",
    "outputId": "58639e51-4e11-44a6-cad1-56414b57d74b"
   },
   "outputs": [
    {
     "data": {
      "text/html": [
       "<div>\n",
       "<style scoped>\n",
       "    .dataframe tbody tr th:only-of-type {\n",
       "        vertical-align: middle;\n",
       "    }\n",
       "\n",
       "    .dataframe tbody tr th {\n",
       "        vertical-align: top;\n",
       "    }\n",
       "\n",
       "    .dataframe thead th {\n",
       "        text-align: right;\n",
       "    }\n",
       "</style>\n",
       "<table border=\"1\" class=\"dataframe\">\n",
       "  <thead>\n",
       "    <tr style=\"text-align: right;\">\n",
       "      <th></th>\n",
       "      <th>key</th>\n",
       "      <th>fare_amount</th>\n",
       "      <th>pickup_datetime</th>\n",
       "      <th>pickup_longitude</th>\n",
       "      <th>pickup_latitude</th>\n",
       "      <th>dropoff_longitude</th>\n",
       "      <th>dropoff_latitude</th>\n",
       "      <th>passenger_count</th>\n",
       "      <th>Distance</th>\n",
       "      <th>Year</th>\n",
       "      <th>Month</th>\n",
       "      <th>Date</th>\n",
       "      <th>Day of Week</th>\n",
       "      <th>Hour</th>\n",
       "    </tr>\n",
       "  </thead>\n",
       "  <tbody>\n",
       "    <tr>\n",
       "      <th>207727</th>\n",
       "      <td>2015-01-16 14:56:36.000000400</td>\n",
       "      <td>0.0</td>\n",
       "      <td>2015-01-16 14:56:36+00:00</td>\n",
       "      <td>-73.937531</td>\n",
       "      <td>40.758289</td>\n",
       "      <td>-73.937531</td>\n",
       "      <td>40.758289</td>\n",
       "      <td>1.0</td>\n",
       "      <td>0.0</td>\n",
       "      <td>2015.0</td>\n",
       "      <td>1.0</td>\n",
       "      <td>16.0</td>\n",
       "      <td>4.0</td>\n",
       "      <td>14.0</td>\n",
       "    </tr>\n",
       "    <tr>\n",
       "      <th>472885</th>\n",
       "      <td>2010-02-22 01:02:16.000000200</td>\n",
       "      <td>0.0</td>\n",
       "      <td>2010-02-22 01:02:16+00:00</td>\n",
       "      <td>-73.981984</td>\n",
       "      <td>40.757467</td>\n",
       "      <td>-73.981984</td>\n",
       "      <td>40.757467</td>\n",
       "      <td>1.0</td>\n",
       "      <td>0.0</td>\n",
       "      <td>2010.0</td>\n",
       "      <td>2.0</td>\n",
       "      <td>22.0</td>\n",
       "      <td>0.0</td>\n",
       "      <td>1.0</td>\n",
       "    </tr>\n",
       "    <tr>\n",
       "      <th>1040189</th>\n",
       "      <td>2010-02-13 00:30:23.000000100</td>\n",
       "      <td>0.0</td>\n",
       "      <td>2010-02-13 00:30:23+00:00</td>\n",
       "      <td>-73.968945</td>\n",
       "      <td>40.764540</td>\n",
       "      <td>-73.968945</td>\n",
       "      <td>40.764540</td>\n",
       "      <td>1.0</td>\n",
       "      <td>0.0</td>\n",
       "      <td>2010.0</td>\n",
       "      <td>2.0</td>\n",
       "      <td>13.0</td>\n",
       "      <td>5.0</td>\n",
       "      <td>0.0</td>\n",
       "    </tr>\n",
       "    <tr>\n",
       "      <th>1459775</th>\n",
       "      <td>2010-03-13 02:39:29.000000100</td>\n",
       "      <td>0.0</td>\n",
       "      <td>2010-03-13 02:39:29+00:00</td>\n",
       "      <td>-74.035278</td>\n",
       "      <td>40.738683</td>\n",
       "      <td>-74.035278</td>\n",
       "      <td>40.738683</td>\n",
       "      <td>2.0</td>\n",
       "      <td>0.0</td>\n",
       "      <td>2010.0</td>\n",
       "      <td>3.0</td>\n",
       "      <td>13.0</td>\n",
       "      <td>5.0</td>\n",
       "      <td>2.0</td>\n",
       "    </tr>\n",
       "    <tr>\n",
       "      <th>1481722</th>\n",
       "      <td>2015-05-07 19:12:43.000000500</td>\n",
       "      <td>0.0</td>\n",
       "      <td>2015-05-07 19:12:43+00:00</td>\n",
       "      <td>-73.913727</td>\n",
       "      <td>40.779018</td>\n",
       "      <td>-73.913727</td>\n",
       "      <td>40.779018</td>\n",
       "      <td>1.0</td>\n",
       "      <td>0.0</td>\n",
       "      <td>2015.0</td>\n",
       "      <td>5.0</td>\n",
       "      <td>7.0</td>\n",
       "      <td>3.0</td>\n",
       "      <td>19.0</td>\n",
       "    </tr>\n",
       "    <tr>\n",
       "      <th>1554095</th>\n",
       "      <td>2010-03-29 12:47:22.000000500</td>\n",
       "      <td>0.0</td>\n",
       "      <td>2010-03-29 12:47:22+00:00</td>\n",
       "      <td>-73.836776</td>\n",
       "      <td>40.869879</td>\n",
       "      <td>-73.836776</td>\n",
       "      <td>40.869879</td>\n",
       "      <td>1.0</td>\n",
       "      <td>0.0</td>\n",
       "      <td>2010.0</td>\n",
       "      <td>3.0</td>\n",
       "      <td>29.0</td>\n",
       "      <td>0.0</td>\n",
       "      <td>12.0</td>\n",
       "    </tr>\n",
       "    <tr>\n",
       "      <th>1626033</th>\n",
       "      <td>2015-01-14 10:15:51.000000200</td>\n",
       "      <td>0.0</td>\n",
       "      <td>2015-01-14 10:15:51+00:00</td>\n",
       "      <td>-73.937508</td>\n",
       "      <td>40.758129</td>\n",
       "      <td>-73.937508</td>\n",
       "      <td>40.758129</td>\n",
       "      <td>1.0</td>\n",
       "      <td>0.0</td>\n",
       "      <td>2015.0</td>\n",
       "      <td>1.0</td>\n",
       "      <td>14.0</td>\n",
       "      <td>2.0</td>\n",
       "      <td>10.0</td>\n",
       "    </tr>\n",
       "    <tr>\n",
       "      <th>2012298</th>\n",
       "      <td>2015-01-25 20:54:02.000000400</td>\n",
       "      <td>0.0</td>\n",
       "      <td>2015-01-25 20:54:02+00:00</td>\n",
       "      <td>-73.981293</td>\n",
       "      <td>40.769012</td>\n",
       "      <td>-73.981293</td>\n",
       "      <td>40.769012</td>\n",
       "      <td>1.0</td>\n",
       "      <td>0.0</td>\n",
       "      <td>2015.0</td>\n",
       "      <td>1.0</td>\n",
       "      <td>25.0</td>\n",
       "      <td>6.0</td>\n",
       "      <td>20.0</td>\n",
       "    </tr>\n",
       "    <tr>\n",
       "      <th>2269294</th>\n",
       "      <td>2013-08-05 06:45:54.000000500</td>\n",
       "      <td>0.0</td>\n",
       "      <td>2013-08-05 06:45:54+00:00</td>\n",
       "      <td>-73.982354</td>\n",
       "      <td>40.679971</td>\n",
       "      <td>-73.982354</td>\n",
       "      <td>40.679971</td>\n",
       "      <td>1.0</td>\n",
       "      <td>0.0</td>\n",
       "      <td>2013.0</td>\n",
       "      <td>8.0</td>\n",
       "      <td>5.0</td>\n",
       "      <td>0.0</td>\n",
       "      <td>6.0</td>\n",
       "    </tr>\n",
       "    <tr>\n",
       "      <th>2295535</th>\n",
       "      <td>2010-02-10 20:18:01.000000200</td>\n",
       "      <td>0.0</td>\n",
       "      <td>2010-02-10 20:18:01+00:00</td>\n",
       "      <td>-74.003095</td>\n",
       "      <td>40.743403</td>\n",
       "      <td>-74.003095</td>\n",
       "      <td>40.743403</td>\n",
       "      <td>1.0</td>\n",
       "      <td>0.0</td>\n",
       "      <td>2010.0</td>\n",
       "      <td>2.0</td>\n",
       "      <td>10.0</td>\n",
       "      <td>2.0</td>\n",
       "      <td>20.0</td>\n",
       "    </tr>\n",
       "    <tr>\n",
       "      <th>2478979</th>\n",
       "      <td>2015-05-27 23:10:03.000000400</td>\n",
       "      <td>0.0</td>\n",
       "      <td>2015-05-27 23:10:03+00:00</td>\n",
       "      <td>-73.994125</td>\n",
       "      <td>40.741131</td>\n",
       "      <td>-73.994125</td>\n",
       "      <td>40.741131</td>\n",
       "      <td>1.0</td>\n",
       "      <td>0.0</td>\n",
       "      <td>2015.0</td>\n",
       "      <td>5.0</td>\n",
       "      <td>27.0</td>\n",
       "      <td>2.0</td>\n",
       "      <td>23.0</td>\n",
       "    </tr>\n",
       "    <tr>\n",
       "      <th>2532364</th>\n",
       "      <td>2015-02-19 09:43:11.000000700</td>\n",
       "      <td>0.0</td>\n",
       "      <td>2015-02-19 09:43:11+00:00</td>\n",
       "      <td>-73.953857</td>\n",
       "      <td>40.813251</td>\n",
       "      <td>-73.953857</td>\n",
       "      <td>40.813251</td>\n",
       "      <td>1.0</td>\n",
       "      <td>0.0</td>\n",
       "      <td>2015.0</td>\n",
       "      <td>2.0</td>\n",
       "      <td>19.0</td>\n",
       "      <td>3.0</td>\n",
       "      <td>9.0</td>\n",
       "    </tr>\n",
       "    <tr>\n",
       "      <th>2585642</th>\n",
       "      <td>2010-02-03 11:44:07.000000200</td>\n",
       "      <td>0.0</td>\n",
       "      <td>2010-02-03 11:44:07+00:00</td>\n",
       "      <td>-74.014147</td>\n",
       "      <td>40.710546</td>\n",
       "      <td>-74.014147</td>\n",
       "      <td>40.710546</td>\n",
       "      <td>1.0</td>\n",
       "      <td>0.0</td>\n",
       "      <td>2010.0</td>\n",
       "      <td>2.0</td>\n",
       "      <td>3.0</td>\n",
       "      <td>2.0</td>\n",
       "      <td>11.0</td>\n",
       "    </tr>\n",
       "    <tr>\n",
       "      <th>3034648</th>\n",
       "      <td>2015-03-04 22:33:39.000000800</td>\n",
       "      <td>0.0</td>\n",
       "      <td>2015-03-04 22:33:39+00:00</td>\n",
       "      <td>-74.043442</td>\n",
       "      <td>40.788208</td>\n",
       "      <td>-74.043442</td>\n",
       "      <td>40.788208</td>\n",
       "      <td>1.0</td>\n",
       "      <td>0.0</td>\n",
       "      <td>2015.0</td>\n",
       "      <td>3.0</td>\n",
       "      <td>4.0</td>\n",
       "      <td>2.0</td>\n",
       "      <td>22.0</td>\n",
       "    </tr>\n",
       "  </tbody>\n",
       "</table>\n",
       "</div>"
      ],
      "text/plain": [
       "                                  key  fare_amount  ... Day of Week  Hour\n",
       "207727  2015-01-16 14:56:36.000000400          0.0  ...         4.0  14.0\n",
       "472885  2010-02-22 01:02:16.000000200          0.0  ...         0.0   1.0\n",
       "1040189 2010-02-13 00:30:23.000000100          0.0  ...         5.0   0.0\n",
       "1459775 2010-03-13 02:39:29.000000100          0.0  ...         5.0   2.0\n",
       "1481722 2015-05-07 19:12:43.000000500          0.0  ...         3.0  19.0\n",
       "1554095 2010-03-29 12:47:22.000000500          0.0  ...         0.0  12.0\n",
       "1626033 2015-01-14 10:15:51.000000200          0.0  ...         2.0  10.0\n",
       "2012298 2015-01-25 20:54:02.000000400          0.0  ...         6.0  20.0\n",
       "2269294 2013-08-05 06:45:54.000000500          0.0  ...         0.0   6.0\n",
       "2295535 2010-02-10 20:18:01.000000200          0.0  ...         2.0  20.0\n",
       "2478979 2015-05-27 23:10:03.000000400          0.0  ...         2.0  23.0\n",
       "2532364 2015-02-19 09:43:11.000000700          0.0  ...         3.0   9.0\n",
       "2585642 2010-02-03 11:44:07.000000200          0.0  ...         2.0  11.0\n",
       "3034648 2015-03-04 22:33:39.000000800          0.0  ...         2.0  22.0\n",
       "\n",
       "[14 rows x 14 columns]"
      ]
     },
     "execution_count": 68,
     "metadata": {
      "tags": []
     },
     "output_type": "execute_result"
    }
   ],
   "source": [
    "train[(train['Distance']==0)&(train['fare_amount']==0)]"
   ]
  },
  {
   "cell_type": "code",
   "execution_count": 0,
   "metadata": {
    "colab": {},
    "colab_type": "code",
    "id": "D3stDOJzvq8j"
   },
   "outputs": [],
   "source": [
    "train = train.drop(train[(train['Distance']==0)&(train['fare_amount']==0)].index, axis = 0)"
   ]
  },
  {
   "cell_type": "code",
   "execution_count": 70,
   "metadata": {
    "colab": {
     "base_uri": "https://localhost:8080/",
     "height": 34
    },
    "colab_type": "code",
    "id": "NNC4XAZdvq8l",
    "outputId": "bbc97508-0200-40dd-ec09-5943afb08179"
   },
   "outputs": [
    {
     "data": {
      "text/plain": [
       "(41135, 14)"
      ]
     },
     "execution_count": 70,
     "metadata": {
      "tags": []
     },
     "output_type": "execute_result"
    }
   ],
   "source": [
    "train[(train['Distance']==0)].shape"
   ]
  },
  {
   "cell_type": "code",
   "execution_count": 0,
   "metadata": {
    "colab": {},
    "colab_type": "code",
    "id": "u5mtvallvq8o"
   },
   "outputs": [],
   "source": [
    "#Between 6AM and 8PM on Mon-Fri\n",
    "rush_hour = train.loc[(((train['Hour']>=6)&(train['Hour']<=20)) & ((train['Day of Week']>=1) & (train['Day of Week']<=5)) & (train['Distance']==0) & (train['fare_amount'] < 2.5))]"
   ]
  },
  {
   "cell_type": "code",
   "execution_count": 0,
   "metadata": {
    "colab": {},
    "colab_type": "code",
    "id": "f-jbhE7Tvq8p"
   },
   "outputs": [],
   "source": [
    "train=train.drop(rush_hour.index, axis=0)"
   ]
  },
  {
   "cell_type": "code",
   "execution_count": 73,
   "metadata": {
    "colab": {
     "base_uri": "https://localhost:8080/",
     "height": 34
    },
    "colab_type": "code",
    "id": "_t2k8gJcvq8u",
    "outputId": "b7775f32-6ae5-4d9d-d091-945cc07ee961"
   },
   "outputs": [
    {
     "data": {
      "text/plain": [
       "(3821693, 14)"
      ]
     },
     "execution_count": 73,
     "metadata": {
      "tags": []
     },
     "output_type": "execute_result"
    }
   ],
   "source": [
    "train.shape"
   ]
  },
  {
   "cell_type": "code",
   "execution_count": 0,
   "metadata": {
    "colab": {},
    "colab_type": "code",
    "id": "M0Dcb5Q7vq8v"
   },
   "outputs": [],
   "source": [
    "non_rush_hour = train.loc[(((train['Hour']<6)|(train['Hour']>20)) & ((train['Day of Week']>=1)&(train['Day of Week']<=5)) & (train['Distance']==0) & (train['fare_amount'] < 3.0))]"
   ]
  },
  {
   "cell_type": "code",
   "execution_count": 0,
   "metadata": {
    "colab": {},
    "colab_type": "code",
    "id": "2wKwjDcUvq8x"
   },
   "outputs": [],
   "source": [
    "weekends = train.loc[((train['Day of Week']==0) | (train['Day of Week']==6)) & (train['Distance']==0) & (train['fare_amount'] < 3.0)]"
   ]
  },
  {
   "cell_type": "code",
   "execution_count": 76,
   "metadata": {
    "colab": {
     "base_uri": "https://localhost:8080/",
     "height": 643
    },
    "colab_type": "code",
    "id": "b3NCAQqZvq80",
    "outputId": "353378a2-bd30-4c30-aeb6-e15714b2fe30"
   },
   "outputs": [
    {
     "data": {
      "text/html": [
       "<div>\n",
       "<style scoped>\n",
       "    .dataframe tbody tr th:only-of-type {\n",
       "        vertical-align: middle;\n",
       "    }\n",
       "\n",
       "    .dataframe tbody tr th {\n",
       "        vertical-align: top;\n",
       "    }\n",
       "\n",
       "    .dataframe thead th {\n",
       "        text-align: right;\n",
       "    }\n",
       "</style>\n",
       "<table border=\"1\" class=\"dataframe\">\n",
       "  <thead>\n",
       "    <tr style=\"text-align: right;\">\n",
       "      <th></th>\n",
       "      <th>key</th>\n",
       "      <th>fare_amount</th>\n",
       "      <th>pickup_datetime</th>\n",
       "      <th>pickup_longitude</th>\n",
       "      <th>pickup_latitude</th>\n",
       "      <th>dropoff_longitude</th>\n",
       "      <th>dropoff_latitude</th>\n",
       "      <th>passenger_count</th>\n",
       "      <th>Distance</th>\n",
       "      <th>Year</th>\n",
       "      <th>Month</th>\n",
       "      <th>Date</th>\n",
       "      <th>Day of Week</th>\n",
       "      <th>Hour</th>\n",
       "    </tr>\n",
       "  </thead>\n",
       "  <tbody>\n",
       "    <tr>\n",
       "      <th>7149</th>\n",
       "      <td>2010-02-10 16:43:02.000000200</td>\n",
       "      <td>0.0</td>\n",
       "      <td>2010-02-10 16:43:02+00:00</td>\n",
       "      <td>-73.978861</td>\n",
       "      <td>40.759465</td>\n",
       "      <td>-73.975811</td>\n",
       "      <td>40.758107</td>\n",
       "      <td>4.0</td>\n",
       "      <td>0.297984</td>\n",
       "      <td>2010.0</td>\n",
       "      <td>2.0</td>\n",
       "      <td>10.0</td>\n",
       "      <td>2.0</td>\n",
       "      <td>16.0</td>\n",
       "    </tr>\n",
       "    <tr>\n",
       "      <th>8793</th>\n",
       "      <td>2015-06-25 21:15:59.000000700</td>\n",
       "      <td>0.0</td>\n",
       "      <td>2015-06-25 21:15:59+00:00</td>\n",
       "      <td>-74.120827</td>\n",
       "      <td>40.939167</td>\n",
       "      <td>-74.121971</td>\n",
       "      <td>40.939655</td>\n",
       "      <td>1.0</td>\n",
       "      <td>0.110400</td>\n",
       "      <td>2015.0</td>\n",
       "      <td>6.0</td>\n",
       "      <td>25.0</td>\n",
       "      <td>3.0</td>\n",
       "      <td>21.0</td>\n",
       "    </tr>\n",
       "    <tr>\n",
       "      <th>156161</th>\n",
       "      <td>2013-08-13 09:07:00.000000149</td>\n",
       "      <td>0.0</td>\n",
       "      <td>2013-08-13 09:07:00+00:00</td>\n",
       "      <td>-73.902000</td>\n",
       "      <td>40.764082</td>\n",
       "      <td>-73.902012</td>\n",
       "      <td>40.764082</td>\n",
       "      <td>1.0</td>\n",
       "      <td>0.001011</td>\n",
       "      <td>2013.0</td>\n",
       "      <td>8.0</td>\n",
       "      <td>13.0</td>\n",
       "      <td>1.0</td>\n",
       "      <td>9.0</td>\n",
       "    </tr>\n",
       "    <tr>\n",
       "      <th>258659</th>\n",
       "      <td>2015-05-08 07:02:38.000000100</td>\n",
       "      <td>0.0</td>\n",
       "      <td>2015-05-08 07:02:38+00:00</td>\n",
       "      <td>-73.999496</td>\n",
       "      <td>40.748787</td>\n",
       "      <td>-74.002556</td>\n",
       "      <td>40.744659</td>\n",
       "      <td>1.0</td>\n",
       "      <td>0.526370</td>\n",
       "      <td>2015.0</td>\n",
       "      <td>5.0</td>\n",
       "      <td>8.0</td>\n",
       "      <td>4.0</td>\n",
       "      <td>7.0</td>\n",
       "    </tr>\n",
       "    <tr>\n",
       "      <th>357012</th>\n",
       "      <td>2015-02-04 23:47:28.000000600</td>\n",
       "      <td>0.0</td>\n",
       "      <td>2015-02-04 23:47:28+00:00</td>\n",
       "      <td>-73.864532</td>\n",
       "      <td>40.770012</td>\n",
       "      <td>-74.030937</td>\n",
       "      <td>40.727139</td>\n",
       "      <td>1.0</td>\n",
       "      <td>14.806275</td>\n",
       "      <td>2015.0</td>\n",
       "      <td>2.0</td>\n",
       "      <td>4.0</td>\n",
       "      <td>2.0</td>\n",
       "      <td>23.0</td>\n",
       "    </tr>\n",
       "    <tr>\n",
       "      <th>...</th>\n",
       "      <td>...</td>\n",
       "      <td>...</td>\n",
       "      <td>...</td>\n",
       "      <td>...</td>\n",
       "      <td>...</td>\n",
       "      <td>...</td>\n",
       "      <td>...</td>\n",
       "      <td>...</td>\n",
       "      <td>...</td>\n",
       "      <td>...</td>\n",
       "      <td>...</td>\n",
       "      <td>...</td>\n",
       "      <td>...</td>\n",
       "      <td>...</td>\n",
       "    </tr>\n",
       "    <tr>\n",
       "      <th>3605484</th>\n",
       "      <td>2010-03-29 09:48:15.000000300</td>\n",
       "      <td>0.0</td>\n",
       "      <td>2010-03-29 09:48:15+00:00</td>\n",
       "      <td>-73.935574</td>\n",
       "      <td>40.737711</td>\n",
       "      <td>-73.982365</td>\n",
       "      <td>40.748256</td>\n",
       "      <td>1.0</td>\n",
       "      <td>4.112661</td>\n",
       "      <td>2010.0</td>\n",
       "      <td>3.0</td>\n",
       "      <td>29.0</td>\n",
       "      <td>0.0</td>\n",
       "      <td>9.0</td>\n",
       "    </tr>\n",
       "    <tr>\n",
       "      <th>3647165</th>\n",
       "      <td>2015-03-01 17:48:51.000000500</td>\n",
       "      <td>0.0</td>\n",
       "      <td>2015-03-01 17:48:51+00:00</td>\n",
       "      <td>-73.998901</td>\n",
       "      <td>40.761848</td>\n",
       "      <td>-73.998940</td>\n",
       "      <td>40.761765</td>\n",
       "      <td>2.0</td>\n",
       "      <td>0.009869</td>\n",
       "      <td>2015.0</td>\n",
       "      <td>3.0</td>\n",
       "      <td>1.0</td>\n",
       "      <td>6.0</td>\n",
       "      <td>17.0</td>\n",
       "    </tr>\n",
       "    <tr>\n",
       "      <th>3701159</th>\n",
       "      <td>2013-08-21 09:59:00.000000133</td>\n",
       "      <td>0.0</td>\n",
       "      <td>2013-08-21 09:59:00+00:00</td>\n",
       "      <td>-73.937467</td>\n",
       "      <td>40.758262</td>\n",
       "      <td>-73.937477</td>\n",
       "      <td>40.758280</td>\n",
       "      <td>1.0</td>\n",
       "      <td>0.002172</td>\n",
       "      <td>2013.0</td>\n",
       "      <td>8.0</td>\n",
       "      <td>21.0</td>\n",
       "      <td>2.0</td>\n",
       "      <td>9.0</td>\n",
       "    </tr>\n",
       "    <tr>\n",
       "      <th>3727214</th>\n",
       "      <td>2013-08-21 16:04:30.000000100</td>\n",
       "      <td>0.0</td>\n",
       "      <td>2013-08-21 16:04:30+00:00</td>\n",
       "      <td>-73.974925</td>\n",
       "      <td>40.748838</td>\n",
       "      <td>-73.976375</td>\n",
       "      <td>40.751810</td>\n",
       "      <td>1.0</td>\n",
       "      <td>0.352321</td>\n",
       "      <td>2013.0</td>\n",
       "      <td>8.0</td>\n",
       "      <td>21.0</td>\n",
       "      <td>2.0</td>\n",
       "      <td>16.0</td>\n",
       "    </tr>\n",
       "    <tr>\n",
       "      <th>3852042</th>\n",
       "      <td>2015-03-24 00:01:05.000000100</td>\n",
       "      <td>0.0</td>\n",
       "      <td>2015-03-24 00:01:05+00:00</td>\n",
       "      <td>-74.006424</td>\n",
       "      <td>40.729450</td>\n",
       "      <td>-74.005249</td>\n",
       "      <td>40.727474</td>\n",
       "      <td>1.0</td>\n",
       "      <td>0.240998</td>\n",
       "      <td>2015.0</td>\n",
       "      <td>3.0</td>\n",
       "      <td>24.0</td>\n",
       "      <td>1.0</td>\n",
       "      <td>0.0</td>\n",
       "    </tr>\n",
       "  </tbody>\n",
       "</table>\n",
       "<p>86 rows × 14 columns</p>\n",
       "</div>"
      ],
      "text/plain": [
       "                                  key  fare_amount  ... Day of Week  Hour\n",
       "7149    2010-02-10 16:43:02.000000200          0.0  ...         2.0  16.0\n",
       "8793    2015-06-25 21:15:59.000000700          0.0  ...         3.0  21.0\n",
       "156161  2013-08-13 09:07:00.000000149          0.0  ...         1.0   9.0\n",
       "258659  2015-05-08 07:02:38.000000100          0.0  ...         4.0   7.0\n",
       "357012  2015-02-04 23:47:28.000000600          0.0  ...         2.0  23.0\n",
       "...                               ...          ...  ...         ...   ...\n",
       "3605484 2010-03-29 09:48:15.000000300          0.0  ...         0.0   9.0\n",
       "3647165 2015-03-01 17:48:51.000000500          0.0  ...         6.0  17.0\n",
       "3701159 2013-08-21 09:59:00.000000133          0.0  ...         2.0   9.0\n",
       "3727214 2013-08-21 16:04:30.000000100          0.0  ...         2.0  16.0\n",
       "3852042 2015-03-24 00:01:05.000000100          0.0  ...         1.0   0.0\n",
       "\n",
       "[86 rows x 14 columns]"
      ]
     },
     "execution_count": 76,
     "metadata": {
      "tags": []
     },
     "output_type": "execute_result"
    }
   ],
   "source": [
    "train.loc[(train['Distance']!=0) & (train['fare_amount']==0)]"
   ]
  },
  {
   "cell_type": "code",
   "execution_count": 77,
   "metadata": {
    "colab": {
     "base_uri": "https://localhost:8080/",
     "height": 34
    },
    "colab_type": "code",
    "id": "rxVvNKQ_vq82",
    "outputId": "11d7d668-f92a-4f74-912a-344b4ecf6825"
   },
   "outputs": [
    {
     "data": {
      "text/plain": [
       "86"
      ]
     },
     "execution_count": 77,
     "metadata": {
      "tags": []
     },
     "output_type": "execute_result"
    }
   ],
   "source": [
    "scenario_3 = train.loc[(train['Distance']!=0) & (train['fare_amount']==0)]\n",
    "len(scenario_3)"
   ]
  },
  {
   "cell_type": "code",
   "execution_count": 78,
   "metadata": {
    "colab": {
     "base_uri": "https://localhost:8080/",
     "height": 643
    },
    "colab_type": "code",
    "id": "ChszIUWkvq85",
    "outputId": "50cdc37e-6674-4420-86dc-3a9bee7d66d8"
   },
   "outputs": [
    {
     "data": {
      "text/html": [
       "<div>\n",
       "<style scoped>\n",
       "    .dataframe tbody tr th:only-of-type {\n",
       "        vertical-align: middle;\n",
       "    }\n",
       "\n",
       "    .dataframe tbody tr th {\n",
       "        vertical-align: top;\n",
       "    }\n",
       "\n",
       "    .dataframe thead th {\n",
       "        text-align: right;\n",
       "    }\n",
       "</style>\n",
       "<table border=\"1\" class=\"dataframe\">\n",
       "  <thead>\n",
       "    <tr style=\"text-align: right;\">\n",
       "      <th></th>\n",
       "      <th>key</th>\n",
       "      <th>fare_amount</th>\n",
       "      <th>pickup_datetime</th>\n",
       "      <th>pickup_longitude</th>\n",
       "      <th>pickup_latitude</th>\n",
       "      <th>dropoff_longitude</th>\n",
       "      <th>dropoff_latitude</th>\n",
       "      <th>passenger_count</th>\n",
       "      <th>Distance</th>\n",
       "      <th>Year</th>\n",
       "      <th>Month</th>\n",
       "      <th>Date</th>\n",
       "      <th>Day of Week</th>\n",
       "      <th>Hour</th>\n",
       "    </tr>\n",
       "  </thead>\n",
       "  <tbody>\n",
       "    <tr>\n",
       "      <th>1368168</th>\n",
       "      <td>2013-08-25 01:47:26.000000200</td>\n",
       "      <td>0.0</td>\n",
       "      <td>2013-08-25 01:47:26+00:00</td>\n",
       "      <td>-73.996752</td>\n",
       "      <td>40.763577</td>\n",
       "      <td>0.000000</td>\n",
       "      <td>0.000000</td>\n",
       "      <td>2.0</td>\n",
       "      <td>8667.340731</td>\n",
       "      <td>2013.0</td>\n",
       "      <td>8.0</td>\n",
       "      <td>25.0</td>\n",
       "      <td>6.0</td>\n",
       "      <td>1.0</td>\n",
       "    </tr>\n",
       "    <tr>\n",
       "      <th>3515968</th>\n",
       "      <td>2015-04-28 11:18:39.000000400</td>\n",
       "      <td>0.0</td>\n",
       "      <td>2015-04-28 11:18:39+00:00</td>\n",
       "      <td>-73.996246</td>\n",
       "      <td>40.748653</td>\n",
       "      <td>0.000000</td>\n",
       "      <td>0.000000</td>\n",
       "      <td>1.0</td>\n",
       "      <td>8666.993460</td>\n",
       "      <td>2015.0</td>\n",
       "      <td>4.0</td>\n",
       "      <td>28.0</td>\n",
       "      <td>1.0</td>\n",
       "      <td>11.0</td>\n",
       "    </tr>\n",
       "    <tr>\n",
       "      <th>1175434</th>\n",
       "      <td>2015-05-30 03:23:01.000000200</td>\n",
       "      <td>0.0</td>\n",
       "      <td>2015-05-30 03:23:01+00:00</td>\n",
       "      <td>-74.002304</td>\n",
       "      <td>40.708973</td>\n",
       "      <td>0.000000</td>\n",
       "      <td>0.000000</td>\n",
       "      <td>1.0</td>\n",
       "      <td>8666.683730</td>\n",
       "      <td>2015.0</td>\n",
       "      <td>5.0</td>\n",
       "      <td>30.0</td>\n",
       "      <td>5.0</td>\n",
       "      <td>3.0</td>\n",
       "    </tr>\n",
       "    <tr>\n",
       "      <th>1854169</th>\n",
       "      <td>2013-08-06 23:11:41.000000400</td>\n",
       "      <td>0.0</td>\n",
       "      <td>2013-08-06 23:11:41+00:00</td>\n",
       "      <td>-73.993769</td>\n",
       "      <td>40.720913</td>\n",
       "      <td>0.000000</td>\n",
       "      <td>0.000000</td>\n",
       "      <td>1.0</td>\n",
       "      <td>8666.220774</td>\n",
       "      <td>2013.0</td>\n",
       "      <td>8.0</td>\n",
       "      <td>6.0</td>\n",
       "      <td>1.0</td>\n",
       "      <td>23.0</td>\n",
       "    </tr>\n",
       "    <tr>\n",
       "      <th>390287</th>\n",
       "      <td>2013-08-18 00:21:42.000000200</td>\n",
       "      <td>0.0</td>\n",
       "      <td>2013-08-18 00:21:42+00:00</td>\n",
       "      <td>-73.988647</td>\n",
       "      <td>40.731393</td>\n",
       "      <td>0.000000</td>\n",
       "      <td>0.000000</td>\n",
       "      <td>1.0</td>\n",
       "      <td>8666.010941</td>\n",
       "      <td>2013.0</td>\n",
       "      <td>8.0</td>\n",
       "      <td>18.0</td>\n",
       "      <td>6.0</td>\n",
       "      <td>0.0</td>\n",
       "    </tr>\n",
       "    <tr>\n",
       "      <th>...</th>\n",
       "      <td>...</td>\n",
       "      <td>...</td>\n",
       "      <td>...</td>\n",
       "      <td>...</td>\n",
       "      <td>...</td>\n",
       "      <td>...</td>\n",
       "      <td>...</td>\n",
       "      <td>...</td>\n",
       "      <td>...</td>\n",
       "      <td>...</td>\n",
       "      <td>...</td>\n",
       "      <td>...</td>\n",
       "      <td>...</td>\n",
       "      <td>...</td>\n",
       "    </tr>\n",
       "    <tr>\n",
       "      <th>2194700</th>\n",
       "      <td>2013-08-03 18:51:26.000000400</td>\n",
       "      <td>0.0</td>\n",
       "      <td>2013-08-03 18:51:26+00:00</td>\n",
       "      <td>-74.163165</td>\n",
       "      <td>40.547880</td>\n",
       "      <td>-74.163173</td>\n",
       "      <td>40.547882</td>\n",
       "      <td>1.0</td>\n",
       "      <td>0.000712</td>\n",
       "      <td>2013.0</td>\n",
       "      <td>8.0</td>\n",
       "      <td>3.0</td>\n",
       "      <td>5.0</td>\n",
       "      <td>18.0</td>\n",
       "    </tr>\n",
       "    <tr>\n",
       "      <th>2585574</th>\n",
       "      <td>2010-03-08 18:22:00.000000760</td>\n",
       "      <td>0.0</td>\n",
       "      <td>2010-03-08 18:22:00+00:00</td>\n",
       "      <td>-73.937353</td>\n",
       "      <td>40.758227</td>\n",
       "      <td>-73.937358</td>\n",
       "      <td>40.758230</td>\n",
       "      <td>1.0</td>\n",
       "      <td>0.000537</td>\n",
       "      <td>2010.0</td>\n",
       "      <td>3.0</td>\n",
       "      <td>8.0</td>\n",
       "      <td>0.0</td>\n",
       "      <td>18.0</td>\n",
       "    </tr>\n",
       "    <tr>\n",
       "      <th>2257640</th>\n",
       "      <td>2015-05-31 04:40:53.000000100</td>\n",
       "      <td>0.0</td>\n",
       "      <td>2015-05-31 04:40:53+00:00</td>\n",
       "      <td>-73.896584</td>\n",
       "      <td>40.752499</td>\n",
       "      <td>-73.896584</td>\n",
       "      <td>40.752502</td>\n",
       "      <td>1.0</td>\n",
       "      <td>0.000424</td>\n",
       "      <td>2015.0</td>\n",
       "      <td>5.0</td>\n",
       "      <td>31.0</td>\n",
       "      <td>6.0</td>\n",
       "      <td>4.0</td>\n",
       "    </tr>\n",
       "    <tr>\n",
       "      <th>2900207</th>\n",
       "      <td>2015-02-22 19:26:37.000000500</td>\n",
       "      <td>0.0</td>\n",
       "      <td>2015-02-22 19:26:37+00:00</td>\n",
       "      <td>-73.994370</td>\n",
       "      <td>40.750725</td>\n",
       "      <td>-73.994370</td>\n",
       "      <td>40.750721</td>\n",
       "      <td>1.0</td>\n",
       "      <td>0.000424</td>\n",
       "      <td>2015.0</td>\n",
       "      <td>2.0</td>\n",
       "      <td>22.0</td>\n",
       "      <td>6.0</td>\n",
       "      <td>19.0</td>\n",
       "    </tr>\n",
       "    <tr>\n",
       "      <th>1646663</th>\n",
       "      <td>2013-08-20 13:54:39.000000500</td>\n",
       "      <td>0.0</td>\n",
       "      <td>2013-08-20 13:54:39+00:00</td>\n",
       "      <td>-74.002551</td>\n",
       "      <td>40.733974</td>\n",
       "      <td>-74.002555</td>\n",
       "      <td>40.733975</td>\n",
       "      <td>6.0</td>\n",
       "      <td>0.000355</td>\n",
       "      <td>2013.0</td>\n",
       "      <td>8.0</td>\n",
       "      <td>20.0</td>\n",
       "      <td>1.0</td>\n",
       "      <td>13.0</td>\n",
       "    </tr>\n",
       "  </tbody>\n",
       "</table>\n",
       "<p>86 rows × 14 columns</p>\n",
       "</div>"
      ],
      "text/plain": [
       "                                  key  fare_amount  ... Day of Week  Hour\n",
       "1368168 2013-08-25 01:47:26.000000200          0.0  ...         6.0   1.0\n",
       "3515968 2015-04-28 11:18:39.000000400          0.0  ...         1.0  11.0\n",
       "1175434 2015-05-30 03:23:01.000000200          0.0  ...         5.0   3.0\n",
       "1854169 2013-08-06 23:11:41.000000400          0.0  ...         1.0  23.0\n",
       "390287  2013-08-18 00:21:42.000000200          0.0  ...         6.0   0.0\n",
       "...                               ...          ...  ...         ...   ...\n",
       "2194700 2013-08-03 18:51:26.000000400          0.0  ...         5.0  18.0\n",
       "2585574 2010-03-08 18:22:00.000000760          0.0  ...         0.0  18.0\n",
       "2257640 2015-05-31 04:40:53.000000100          0.0  ...         6.0   4.0\n",
       "2900207 2015-02-22 19:26:37.000000500          0.0  ...         6.0  19.0\n",
       "1646663 2013-08-20 13:54:39.000000500          0.0  ...         1.0  13.0\n",
       "\n",
       "[86 rows x 14 columns]"
      ]
     },
     "execution_count": 78,
     "metadata": {
      "tags": []
     },
     "output_type": "execute_result"
    }
   ],
   "source": [
    "scenario_3.sort_values('Distance', ascending=False)"
   ]
  },
  {
   "cell_type": "code",
   "execution_count": 79,
   "metadata": {
    "colab": {
     "base_uri": "https://localhost:8080/",
     "height": 139
    },
    "colab_type": "code",
    "id": "t1YTJwWBvq88",
    "outputId": "ff47a363-6c7d-487c-e5f9-9f2477f03c49"
   },
   "outputs": [
    {
     "name": "stderr",
     "output_type": "stream",
     "text": [
      "/usr/local/lib/python3.6/dist-packages/ipykernel_launcher.py:2: SettingWithCopyWarning: \n",
      "A value is trying to be set on a copy of a slice from a DataFrame.\n",
      "Try using .loc[row_indexer,col_indexer] = value instead\n",
      "\n",
      "See the caveats in the documentation: http://pandas.pydata.org/pandas-docs/stable/user_guide/indexing.html#returning-a-view-versus-a-copy\n",
      "  \n"
     ]
    }
   ],
   "source": [
    "scenario_3['fare_amount'] = scenario_3.apply(\n",
    "    lambda row: ((row['Distance'] * 1.56) + 2.50), axis=1\n",
    ")"
   ]
  },
  {
   "cell_type": "code",
   "execution_count": 80,
   "metadata": {
    "colab": {
     "base_uri": "https://localhost:8080/",
     "height": 221
    },
    "colab_type": "code",
    "id": "SJdDEKlTvq8-",
    "outputId": "f94f2d6e-2bdb-47fc-c276-1cd33d296489"
   },
   "outputs": [
    {
     "data": {
      "text/plain": [
       "7149        2.964855\n",
       "8793        2.672225\n",
       "156161      2.501577\n",
       "258659      3.321137\n",
       "357012     25.597788\n",
       "             ...    \n",
       "3605484     8.915751\n",
       "3647165     2.515396\n",
       "3701159     2.503388\n",
       "3727214     3.049621\n",
       "3852042     2.875957\n",
       "Name: fare_amount, Length: 86, dtype: float64"
      ]
     },
     "execution_count": 80,
     "metadata": {
      "tags": []
     },
     "output_type": "execute_result"
    }
   ],
   "source": [
    "scenario_3['fare_amount']"
   ]
  },
  {
   "cell_type": "code",
   "execution_count": 0,
   "metadata": {
    "colab": {},
    "colab_type": "code",
    "id": "zRvUMnmXvq8_"
   },
   "outputs": [],
   "source": [
    "train.update(scenario_3)"
   ]
  },
  {
   "cell_type": "code",
   "execution_count": 82,
   "metadata": {
    "colab": {
     "base_uri": "https://localhost:8080/",
     "height": 34
    },
    "colab_type": "code",
    "id": "Lc4o9ll9vq9B",
    "outputId": "6ea9a5e8-786c-4350-f6f0-397e35e4756b"
   },
   "outputs": [
    {
     "data": {
      "text/plain": [
       "(3821693, 14)"
      ]
     },
     "execution_count": 82,
     "metadata": {
      "tags": []
     },
     "output_type": "execute_result"
    }
   ],
   "source": [
    "train.shape"
   ]
  },
  {
   "cell_type": "code",
   "execution_count": 83,
   "metadata": {
    "colab": {
     "base_uri": "https://localhost:8080/",
     "height": 102
    },
    "colab_type": "code",
    "id": "G6wrPgXjvq9C",
    "outputId": "f204cbdb-b678-43b9-9bf6-5b461e2e1f37"
   },
   "outputs": [
    {
     "data": {
      "text/plain": [
       "Index(['key', 'fare_amount', 'pickup_datetime', 'pickup_longitude',\n",
       "       'pickup_latitude', 'dropoff_longitude', 'dropoff_latitude',\n",
       "       'passenger_count', 'Distance', 'Year', 'Month', 'Date', 'Day of Week',\n",
       "       'Hour'],\n",
       "      dtype='object')"
      ]
     },
     "execution_count": 83,
     "metadata": {
      "tags": []
     },
     "output_type": "execute_result"
    }
   ],
   "source": [
    "train.columns"
   ]
  },
  {
   "cell_type": "code",
   "execution_count": 84,
   "metadata": {
    "colab": {
     "base_uri": "https://localhost:8080/",
     "height": 85
    },
    "colab_type": "code",
    "id": "GJZa2_CKvq9E",
    "outputId": "ce0b4405-b6f1-4b18-800c-b333fcbd0bfe"
   },
   "outputs": [
    {
     "data": {
      "text/plain": [
       "Index(['key', 'pickup_datetime', 'pickup_longitude', 'pickup_latitude',\n",
       "       'dropoff_longitude', 'dropoff_latitude', 'passenger_count', 'Distance',\n",
       "       'Year', 'Month', 'Date', 'Day of Week', 'Hour'],\n",
       "      dtype='object')"
      ]
     },
     "execution_count": 84,
     "metadata": {
      "tags": []
     },
     "output_type": "execute_result"
    }
   ],
   "source": [
    "test.columns"
   ]
  },
  {
   "cell_type": "code",
   "execution_count": 0,
   "metadata": {
    "colab": {},
    "colab_type": "code",
    "id": "n03bRPrxvq9F"
   },
   "outputs": [],
   "source": [
    "train = train.drop(['key','pickup_datetime'], axis = 1)"
   ]
  },
  {
   "cell_type": "code",
   "execution_count": 0,
   "metadata": {
    "colab": {},
    "colab_type": "code",
    "id": "y04OhpE5vq9I"
   },
   "outputs": [],
   "source": [
    "test = test.drop(['pickup_datetime'], axis = 1)"
   ]
  },
  {
   "cell_type": "code",
   "execution_count": 87,
   "metadata": {
    "colab": {
     "base_uri": "https://localhost:8080/",
     "height": 85
    },
    "colab_type": "code",
    "id": "Igv7jQfxvq9O",
    "outputId": "9c15fba5-7237-4428-ec83-a2793ca3ea08"
   },
   "outputs": [
    {
     "data": {
      "text/plain": [
       "Index(['fare_amount', 'pickup_longitude', 'pickup_latitude',\n",
       "       'dropoff_longitude', 'dropoff_latitude', 'passenger_count', 'Distance',\n",
       "       'Year', 'Month', 'Date', 'Day of Week', 'Hour'],\n",
       "      dtype='object')"
      ]
     },
     "execution_count": 87,
     "metadata": {
      "tags": []
     },
     "output_type": "execute_result"
    }
   ],
   "source": [
    "train.columns"
   ]
  },
  {
   "cell_type": "code",
   "execution_count": 88,
   "metadata": {
    "colab": {
     "base_uri": "https://localhost:8080/",
     "height": 85
    },
    "colab_type": "code",
    "id": "ejawONmhvq9Q",
    "outputId": "90e5fb98-3c94-4202-b470-bf7c275f5a15"
   },
   "outputs": [
    {
     "data": {
      "text/plain": [
       "Index(['key', 'pickup_longitude', 'pickup_latitude', 'dropoff_longitude',\n",
       "       'dropoff_latitude', 'passenger_count', 'Distance', 'Year', 'Month',\n",
       "       'Date', 'Day of Week', 'Hour'],\n",
       "      dtype='object')"
      ]
     },
     "execution_count": 88,
     "metadata": {
      "tags": []
     },
     "output_type": "execute_result"
    }
   ],
   "source": [
    "test.columns"
   ]
  },
  {
   "cell_type": "code",
   "execution_count": 0,
   "metadata": {
    "colab": {},
    "colab_type": "code",
    "id": "nT-D7XOKvq9T"
   },
   "outputs": [],
   "source": [
    "train.to_csv('train_new.csv', index=False)"
   ]
  },
  {
   "cell_type": "code",
   "execution_count": 0,
   "metadata": {
    "colab": {},
    "colab_type": "code",
    "id": "fXSsCNkUvq9V"
   },
   "outputs": [],
   "source": [
    "test.to_csv('test_new.csv', index=False)"
   ]
  }
 ],
 "metadata": {
  "accelerator": "GPU",
  "colab": {
   "name": "preProcessing.ipynb",
   "provenance": []
  },
  "kernelspec": {
   "display_name": "Python 3",
   "language": "python",
   "name": "python3"
  },
  "language_info": {
   "codemirror_mode": {
    "name": "ipython",
    "version": 3
   },
   "file_extension": ".py",
   "mimetype": "text/x-python",
   "name": "python",
   "nbconvert_exporter": "python",
   "pygments_lexer": "ipython3",
   "version": "3.6.9"
  }
 },
 "nbformat": 4,
 "nbformat_minor": 1
}
